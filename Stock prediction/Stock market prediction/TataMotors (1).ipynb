{
 "cells": [
  {
   "cell_type": "code",
   "execution_count": null,
   "metadata": {},
   "outputs": [],
   "source": []
  },
  {
   "cell_type": "code",
   "execution_count": 1,
   "metadata": {},
   "outputs": [
    {
     "name": "stdout",
     "output_type": "stream",
     "text": [
      "Requirement already satisfied: pmdarima in c:\\users\\aswin\\anaconda3\\lib\\site-packages (1.8.5)\n",
      "Requirement already satisfied: joblib>=0.11 in c:\\users\\aswin\\anaconda3\\lib\\site-packages (from pmdarima) (0.16.0)\n",
      "Requirement already satisfied: numpy>=1.19.3 in c:\\users\\aswin\\anaconda3\\lib\\site-packages (from pmdarima) (1.22.3)\n",
      "Requirement already satisfied: scikit-learn>=0.22 in c:\\users\\aswin\\anaconda3\\lib\\site-packages (from pmdarima) (0.23.1)\n",
      "Requirement already satisfied: Cython!=0.29.18,>=0.29 in c:\\users\\aswin\\anaconda3\\lib\\site-packages (from pmdarima) (0.29.21)\n",
      "Requirement already satisfied: statsmodels!=0.12.0,>=0.11 in c:\\users\\aswin\\anaconda3\\lib\\site-packages (from pmdarima) (0.11.1)\n",
      "Requirement already satisfied: pandas>=0.19 in c:\\users\\aswin\\anaconda3\\lib\\site-packages (from pmdarima) (1.0.5)\n",
      "Requirement already satisfied: setuptools!=50.0.0,>=38.6.0 in c:\\users\\aswin\\anaconda3\\lib\\site-packages (from pmdarima) (49.2.0.post20200714)\n",
      "Requirement already satisfied: scipy>=1.3.2 in c:\\users\\aswin\\anaconda3\\lib\\site-packages (from pmdarima) (1.5.0)\n",
      "Requirement already satisfied: urllib3 in c:\\users\\aswin\\anaconda3\\lib\\site-packages (from pmdarima) (1.25.9)\n",
      "Requirement already satisfied: threadpoolctl>=2.0.0 in c:\\users\\aswin\\anaconda3\\lib\\site-packages (from scikit-learn>=0.22->pmdarima) (2.1.0)\n",
      "Requirement already satisfied: patsy>=0.5 in c:\\users\\aswin\\anaconda3\\lib\\site-packages (from statsmodels!=0.12.0,>=0.11->pmdarima) (0.5.1)\n",
      "Requirement already satisfied: python-dateutil>=2.6.1 in c:\\users\\aswin\\anaconda3\\lib\\site-packages (from pandas>=0.19->pmdarima) (2.8.1)\n",
      "Requirement already satisfied: pytz>=2017.2 in c:\\users\\aswin\\anaconda3\\lib\\site-packages (from pandas>=0.19->pmdarima) (2020.1)\n",
      "Requirement already satisfied: six in c:\\users\\aswin\\anaconda3\\lib\\site-packages (from patsy>=0.5->statsmodels!=0.12.0,>=0.11->pmdarima) (1.15.0)\n"
     ]
    }
   ],
   "source": [
    "!pip install pmdarima"
   ]
  },
  {
   "cell_type": "code",
   "execution_count": 17,
   "metadata": {},
   "outputs": [],
   "source": [
    "import os\n",
    "import warnings\n",
    "warnings.filterwarnings('ignore')\n",
    "import numpy as np\n",
    "import pandas as pd\n",
    "import matplotlib.pyplot as plt\n",
    "import seaborn as sns\n",
    "from statsmodels.tsa.stattools import adfuller\n",
    "import statsmodels.api as sm\n",
    "from statsmodels.tsa.seasonal import seasonal_decompose\n",
    "from statsmodels.tsa.arima_model import ARIMA\n",
    "import warnings\n",
    "warnings.filterwarnings('ignore')\n",
    "from sklearn.metrics import mean_squared_error,mean_absolute_error\n",
    "import math\n",
    "from pmdarima.arima import auto_arima\n",
    "from statsmodels.graphics.tsaplots import plot_acf,plot_pacf"
   ]
  },
  {
   "cell_type": "code",
   "execution_count": 6,
   "metadata": {},
   "outputs": [
    {
     "data": {
      "text/html": [
       "<div>\n",
       "<style scoped>\n",
       "    .dataframe tbody tr th:only-of-type {\n",
       "        vertical-align: middle;\n",
       "    }\n",
       "\n",
       "    .dataframe tbody tr th {\n",
       "        vertical-align: top;\n",
       "    }\n",
       "\n",
       "    .dataframe thead th {\n",
       "        text-align: right;\n",
       "    }\n",
       "</style>\n",
       "<table border=\"1\" class=\"dataframe\">\n",
       "  <thead>\n",
       "    <tr style=\"text-align: right;\">\n",
       "      <th></th>\n",
       "      <th>Date</th>\n",
       "      <th>Open</th>\n",
       "      <th>High</th>\n",
       "      <th>Low</th>\n",
       "      <th>Close</th>\n",
       "      <th>Adj Close</th>\n",
       "      <th>Volume</th>\n",
       "    </tr>\n",
       "  </thead>\n",
       "  <tbody>\n",
       "    <tr>\n",
       "      <th>0</th>\n",
       "      <td>2019-01-01</td>\n",
       "      <td>173.500000</td>\n",
       "      <td>174.199997</td>\n",
       "      <td>171.300003</td>\n",
       "      <td>173.449997</td>\n",
       "      <td>173.449997</td>\n",
       "      <td>6715543</td>\n",
       "    </tr>\n",
       "    <tr>\n",
       "      <th>1</th>\n",
       "      <td>2019-01-02</td>\n",
       "      <td>170.600006</td>\n",
       "      <td>171.750000</td>\n",
       "      <td>168.000000</td>\n",
       "      <td>168.550003</td>\n",
       "      <td>168.550003</td>\n",
       "      <td>13410104</td>\n",
       "    </tr>\n",
       "    <tr>\n",
       "      <th>2</th>\n",
       "      <td>2019-01-03</td>\n",
       "      <td>169.000000</td>\n",
       "      <td>170.149994</td>\n",
       "      <td>165.100006</td>\n",
       "      <td>166.050003</td>\n",
       "      <td>166.050003</td>\n",
       "      <td>9321842</td>\n",
       "    </tr>\n",
       "    <tr>\n",
       "      <th>3</th>\n",
       "      <td>2019-01-04</td>\n",
       "      <td>169.000000</td>\n",
       "      <td>171.949997</td>\n",
       "      <td>168.500000</td>\n",
       "      <td>170.949997</td>\n",
       "      <td>170.949997</td>\n",
       "      <td>17650435</td>\n",
       "    </tr>\n",
       "    <tr>\n",
       "      <th>4</th>\n",
       "      <td>2019-01-07</td>\n",
       "      <td>173.199997</td>\n",
       "      <td>178.199997</td>\n",
       "      <td>173.199997</td>\n",
       "      <td>175.350006</td>\n",
       "      <td>175.350006</td>\n",
       "      <td>21438351</td>\n",
       "    </tr>\n",
       "  </tbody>\n",
       "</table>\n",
       "</div>"
      ],
      "text/plain": [
       "         Date        Open        High         Low       Close   Adj Close  \\\n",
       "0  2019-01-01  173.500000  174.199997  171.300003  173.449997  173.449997   \n",
       "1  2019-01-02  170.600006  171.750000  168.000000  168.550003  168.550003   \n",
       "2  2019-01-03  169.000000  170.149994  165.100006  166.050003  166.050003   \n",
       "3  2019-01-04  169.000000  171.949997  168.500000  170.949997  170.949997   \n",
       "4  2019-01-07  173.199997  178.199997  173.199997  175.350006  175.350006   \n",
       "\n",
       "     Volume  \n",
       "0   6715543  \n",
       "1  13410104  \n",
       "2   9321842  \n",
       "3  17650435  \n",
       "4  21438351  "
      ]
     },
     "execution_count": 6,
     "metadata": {},
     "output_type": "execute_result"
    }
   ],
   "source": [
    "#url='C:\\Users\\Aswin\\Downloads\\Telegram Desktop\\TATAMOTORS.csv'\n",
    "tata=pd.read_csv('C:\\\\Users\\\\Aswin\\\\Downloads\\\\Telegram Desktop\\\\TATAMOTORS.csv')\n",
    "tata.head()"
   ]
  },
  {
   "cell_type": "code",
   "execution_count": 7,
   "metadata": {},
   "outputs": [
    {
     "data": {
      "text/plain": [
       "(1004, 7)"
      ]
     },
     "execution_count": 7,
     "metadata": {},
     "output_type": "execute_result"
    }
   ],
   "source": [
    "tata.shape"
   ]
  },
  {
   "cell_type": "code",
   "execution_count": 8,
   "metadata": {},
   "outputs": [
    {
     "data": {
      "text/plain": [
       "7028"
      ]
     },
     "execution_count": 8,
     "metadata": {},
     "output_type": "execute_result"
    }
   ],
   "source": [
    "tata.size"
   ]
  },
  {
   "cell_type": "code",
   "execution_count": 9,
   "metadata": {},
   "outputs": [
    {
     "name": "stdout",
     "output_type": "stream",
     "text": [
      "<class 'pandas.core.frame.DataFrame'>\n",
      "RangeIndex: 1004 entries, 0 to 1003\n",
      "Data columns (total 7 columns):\n",
      " #   Column     Non-Null Count  Dtype  \n",
      "---  ------     --------------  -----  \n",
      " 0   Date       1004 non-null   object \n",
      " 1   Open       1004 non-null   float64\n",
      " 2   High       1004 non-null   float64\n",
      " 3   Low        1004 non-null   float64\n",
      " 4   Close      1004 non-null   float64\n",
      " 5   Adj Close  1004 non-null   float64\n",
      " 6   Volume     1004 non-null   int64  \n",
      "dtypes: float64(5), int64(1), object(1)\n",
      "memory usage: 55.0+ KB\n"
     ]
    }
   ],
   "source": [
    "tata.info()"
   ]
  },
  {
   "cell_type": "code",
   "execution_count": 10,
   "metadata": {},
   "outputs": [
    {
     "data": {
      "text/plain": [
       "[RangeIndex(start=0, stop=1004, step=1),\n",
       " Index(['Date', 'Open', 'High', 'Low', 'Close', 'Adj Close', 'Volume'], dtype='object')]"
      ]
     },
     "execution_count": 10,
     "metadata": {},
     "output_type": "execute_result"
    }
   ],
   "source": [
    "tata.axes"
   ]
  },
  {
   "cell_type": "code",
   "execution_count": 16,
   "metadata": {},
   "outputs": [
    {
     "data": {
      "text/plain": [
       "Index(['Date', 'Open', 'High', 'Low', 'Close', 'Adj Close', 'Volume'], dtype='object')"
      ]
     },
     "execution_count": 16,
     "metadata": {},
     "output_type": "execute_result"
    }
   ],
   "source": [
    "tata.columns"
   ]
  },
  {
   "cell_type": "code",
   "execution_count": 13,
   "metadata": {},
   "outputs": [
    {
     "data": {
      "text/plain": [
       "Date         0\n",
       "Open         0\n",
       "High         0\n",
       "Low          0\n",
       "Close        0\n",
       "Adj Close    0\n",
       "Volume       0\n",
       "dtype: int64"
      ]
     },
     "execution_count": 13,
     "metadata": {},
     "output_type": "execute_result"
    }
   ],
   "source": [
    "tata.isna().sum()"
   ]
  },
  {
   "cell_type": "code",
   "execution_count": 11,
   "metadata": {},
   "outputs": [
    {
     "data": {
      "text/html": [
       "<div>\n",
       "<style scoped>\n",
       "    .dataframe tbody tr th:only-of-type {\n",
       "        vertical-align: middle;\n",
       "    }\n",
       "\n",
       "    .dataframe tbody tr th {\n",
       "        vertical-align: top;\n",
       "    }\n",
       "\n",
       "    .dataframe thead th {\n",
       "        text-align: right;\n",
       "    }\n",
       "</style>\n",
       "<table border=\"1\" class=\"dataframe\">\n",
       "  <thead>\n",
       "    <tr style=\"text-align: right;\">\n",
       "      <th></th>\n",
       "      <th>Date</th>\n",
       "      <th>Open</th>\n",
       "      <th>High</th>\n",
       "      <th>Low</th>\n",
       "      <th>Close</th>\n",
       "      <th>Adj Close</th>\n",
       "      <th>Volume</th>\n",
       "    </tr>\n",
       "  </thead>\n",
       "  <tbody>\n",
       "    <tr>\n",
       "      <th>0</th>\n",
       "      <td>2019-01-01</td>\n",
       "      <td>173.500000</td>\n",
       "      <td>174.199997</td>\n",
       "      <td>171.300003</td>\n",
       "      <td>173.449997</td>\n",
       "      <td>173.449997</td>\n",
       "      <td>6715543</td>\n",
       "    </tr>\n",
       "    <tr>\n",
       "      <th>1</th>\n",
       "      <td>2019-01-02</td>\n",
       "      <td>170.600006</td>\n",
       "      <td>171.750000</td>\n",
       "      <td>168.000000</td>\n",
       "      <td>168.550003</td>\n",
       "      <td>168.550003</td>\n",
       "      <td>13410104</td>\n",
       "    </tr>\n",
       "    <tr>\n",
       "      <th>2</th>\n",
       "      <td>2019-01-03</td>\n",
       "      <td>169.000000</td>\n",
       "      <td>170.149994</td>\n",
       "      <td>165.100006</td>\n",
       "      <td>166.050003</td>\n",
       "      <td>166.050003</td>\n",
       "      <td>9321842</td>\n",
       "    </tr>\n",
       "    <tr>\n",
       "      <th>3</th>\n",
       "      <td>2019-01-04</td>\n",
       "      <td>169.000000</td>\n",
       "      <td>171.949997</td>\n",
       "      <td>168.500000</td>\n",
       "      <td>170.949997</td>\n",
       "      <td>170.949997</td>\n",
       "      <td>17650435</td>\n",
       "    </tr>\n",
       "    <tr>\n",
       "      <th>4</th>\n",
       "      <td>2019-01-07</td>\n",
       "      <td>173.199997</td>\n",
       "      <td>178.199997</td>\n",
       "      <td>173.199997</td>\n",
       "      <td>175.350006</td>\n",
       "      <td>175.350006</td>\n",
       "      <td>21438351</td>\n",
       "    </tr>\n",
       "    <tr>\n",
       "      <th>...</th>\n",
       "      <td>...</td>\n",
       "      <td>...</td>\n",
       "      <td>...</td>\n",
       "      <td>...</td>\n",
       "      <td>...</td>\n",
       "      <td>...</td>\n",
       "      <td>...</td>\n",
       "    </tr>\n",
       "    <tr>\n",
       "      <th>999</th>\n",
       "      <td>2023-01-13</td>\n",
       "      <td>413.000000</td>\n",
       "      <td>416.350006</td>\n",
       "      <td>408.000000</td>\n",
       "      <td>411.500000</td>\n",
       "      <td>411.500000</td>\n",
       "      <td>10449630</td>\n",
       "    </tr>\n",
       "    <tr>\n",
       "      <th>1000</th>\n",
       "      <td>2023-01-16</td>\n",
       "      <td>413.500000</td>\n",
       "      <td>414.899994</td>\n",
       "      <td>407.600006</td>\n",
       "      <td>413.000000</td>\n",
       "      <td>413.000000</td>\n",
       "      <td>11462140</td>\n",
       "    </tr>\n",
       "    <tr>\n",
       "      <th>1001</th>\n",
       "      <td>2023-01-17</td>\n",
       "      <td>413.000000</td>\n",
       "      <td>419.450012</td>\n",
       "      <td>412.500000</td>\n",
       "      <td>415.299988</td>\n",
       "      <td>415.299988</td>\n",
       "      <td>12337969</td>\n",
       "    </tr>\n",
       "    <tr>\n",
       "      <th>1002</th>\n",
       "      <td>2023-01-18</td>\n",
       "      <td>415.899994</td>\n",
       "      <td>415.950012</td>\n",
       "      <td>407.450012</td>\n",
       "      <td>408.399994</td>\n",
       "      <td>408.399994</td>\n",
       "      <td>13310316</td>\n",
       "    </tr>\n",
       "    <tr>\n",
       "      <th>1003</th>\n",
       "      <td>2023-01-19</td>\n",
       "      <td>406.500000</td>\n",
       "      <td>407.799988</td>\n",
       "      <td>400.100006</td>\n",
       "      <td>400.750000</td>\n",
       "      <td>400.750000</td>\n",
       "      <td>13126520</td>\n",
       "    </tr>\n",
       "  </tbody>\n",
       "</table>\n",
       "<p>1004 rows × 7 columns</p>\n",
       "</div>"
      ],
      "text/plain": [
       "            Date        Open        High         Low       Close   Adj Close  \\\n",
       "0     2019-01-01  173.500000  174.199997  171.300003  173.449997  173.449997   \n",
       "1     2019-01-02  170.600006  171.750000  168.000000  168.550003  168.550003   \n",
       "2     2019-01-03  169.000000  170.149994  165.100006  166.050003  166.050003   \n",
       "3     2019-01-04  169.000000  171.949997  168.500000  170.949997  170.949997   \n",
       "4     2019-01-07  173.199997  178.199997  173.199997  175.350006  175.350006   \n",
       "...          ...         ...         ...         ...         ...         ...   \n",
       "999   2023-01-13  413.000000  416.350006  408.000000  411.500000  411.500000   \n",
       "1000  2023-01-16  413.500000  414.899994  407.600006  413.000000  413.000000   \n",
       "1001  2023-01-17  413.000000  419.450012  412.500000  415.299988  415.299988   \n",
       "1002  2023-01-18  415.899994  415.950012  407.450012  408.399994  408.399994   \n",
       "1003  2023-01-19  406.500000  407.799988  400.100006  400.750000  400.750000   \n",
       "\n",
       "        Volume  \n",
       "0      6715543  \n",
       "1     13410104  \n",
       "2      9321842  \n",
       "3     17650435  \n",
       "4     21438351  \n",
       "...        ...  \n",
       "999   10449630  \n",
       "1000  11462140  \n",
       "1001  12337969  \n",
       "1002  13310316  \n",
       "1003  13126520  \n",
       "\n",
       "[1004 rows x 7 columns]"
      ]
     },
     "execution_count": 11,
     "metadata": {},
     "output_type": "execute_result"
    }
   ],
   "source": [
    "tata"
   ]
  },
  {
   "cell_type": "code",
   "execution_count": 3,
   "metadata": {},
   "outputs": [
    {
     "data": {
      "text/html": [
       "<div>\n",
       "<style scoped>\n",
       "    .dataframe tbody tr th:only-of-type {\n",
       "        vertical-align: middle;\n",
       "    }\n",
       "\n",
       "    .dataframe tbody tr th {\n",
       "        vertical-align: top;\n",
       "    }\n",
       "\n",
       "    .dataframe thead th {\n",
       "        text-align: right;\n",
       "    }\n",
       "</style>\n",
       "<table border=\"1\" class=\"dataframe\">\n",
       "  <thead>\n",
       "    <tr style=\"text-align: right;\">\n",
       "      <th></th>\n",
       "      <th>Open</th>\n",
       "      <th>High</th>\n",
       "      <th>Low</th>\n",
       "      <th>Close</th>\n",
       "      <th>Adj Close</th>\n",
       "      <th>Volume</th>\n",
       "    </tr>\n",
       "    <tr>\n",
       "      <th>Date</th>\n",
       "      <th></th>\n",
       "      <th></th>\n",
       "      <th></th>\n",
       "      <th></th>\n",
       "      <th></th>\n",
       "      <th></th>\n",
       "    </tr>\n",
       "  </thead>\n",
       "  <tbody>\n",
       "    <tr>\n",
       "      <th>2019-01-01</th>\n",
       "      <td>173.500000</td>\n",
       "      <td>174.199997</td>\n",
       "      <td>171.300003</td>\n",
       "      <td>173.449997</td>\n",
       "      <td>173.449997</td>\n",
       "      <td>6715543</td>\n",
       "    </tr>\n",
       "    <tr>\n",
       "      <th>2019-01-02</th>\n",
       "      <td>170.600006</td>\n",
       "      <td>171.750000</td>\n",
       "      <td>168.000000</td>\n",
       "      <td>168.550003</td>\n",
       "      <td>168.550003</td>\n",
       "      <td>13410104</td>\n",
       "    </tr>\n",
       "    <tr>\n",
       "      <th>2019-01-03</th>\n",
       "      <td>169.000000</td>\n",
       "      <td>170.149994</td>\n",
       "      <td>165.100006</td>\n",
       "      <td>166.050003</td>\n",
       "      <td>166.050003</td>\n",
       "      <td>9321842</td>\n",
       "    </tr>\n",
       "    <tr>\n",
       "      <th>2019-01-04</th>\n",
       "      <td>169.000000</td>\n",
       "      <td>171.949997</td>\n",
       "      <td>168.500000</td>\n",
       "      <td>170.949997</td>\n",
       "      <td>170.949997</td>\n",
       "      <td>17650435</td>\n",
       "    </tr>\n",
       "    <tr>\n",
       "      <th>2019-01-07</th>\n",
       "      <td>173.199997</td>\n",
       "      <td>178.199997</td>\n",
       "      <td>173.199997</td>\n",
       "      <td>175.350006</td>\n",
       "      <td>175.350006</td>\n",
       "      <td>21438351</td>\n",
       "    </tr>\n",
       "    <tr>\n",
       "      <th>...</th>\n",
       "      <td>...</td>\n",
       "      <td>...</td>\n",
       "      <td>...</td>\n",
       "      <td>...</td>\n",
       "      <td>...</td>\n",
       "      <td>...</td>\n",
       "    </tr>\n",
       "    <tr>\n",
       "      <th>2023-01-13</th>\n",
       "      <td>413.000000</td>\n",
       "      <td>416.350006</td>\n",
       "      <td>408.000000</td>\n",
       "      <td>411.500000</td>\n",
       "      <td>411.500000</td>\n",
       "      <td>10449630</td>\n",
       "    </tr>\n",
       "    <tr>\n",
       "      <th>2023-01-16</th>\n",
       "      <td>413.500000</td>\n",
       "      <td>414.899994</td>\n",
       "      <td>407.600006</td>\n",
       "      <td>413.000000</td>\n",
       "      <td>413.000000</td>\n",
       "      <td>11462140</td>\n",
       "    </tr>\n",
       "    <tr>\n",
       "      <th>2023-01-17</th>\n",
       "      <td>413.000000</td>\n",
       "      <td>419.450012</td>\n",
       "      <td>412.500000</td>\n",
       "      <td>415.299988</td>\n",
       "      <td>415.299988</td>\n",
       "      <td>12337969</td>\n",
       "    </tr>\n",
       "    <tr>\n",
       "      <th>2023-01-18</th>\n",
       "      <td>415.899994</td>\n",
       "      <td>415.950012</td>\n",
       "      <td>407.450012</td>\n",
       "      <td>408.399994</td>\n",
       "      <td>408.399994</td>\n",
       "      <td>13310316</td>\n",
       "    </tr>\n",
       "    <tr>\n",
       "      <th>2023-01-19</th>\n",
       "      <td>406.500000</td>\n",
       "      <td>407.799988</td>\n",
       "      <td>400.100006</td>\n",
       "      <td>400.750000</td>\n",
       "      <td>400.750000</td>\n",
       "      <td>13126520</td>\n",
       "    </tr>\n",
       "  </tbody>\n",
       "</table>\n",
       "<p>1004 rows × 6 columns</p>\n",
       "</div>"
      ],
      "text/plain": [
       "                  Open        High         Low       Close   Adj Close  \\\n",
       "Date                                                                     \n",
       "2019-01-01  173.500000  174.199997  171.300003  173.449997  173.449997   \n",
       "2019-01-02  170.600006  171.750000  168.000000  168.550003  168.550003   \n",
       "2019-01-03  169.000000  170.149994  165.100006  166.050003  166.050003   \n",
       "2019-01-04  169.000000  171.949997  168.500000  170.949997  170.949997   \n",
       "2019-01-07  173.199997  178.199997  173.199997  175.350006  175.350006   \n",
       "...                ...         ...         ...         ...         ...   \n",
       "2023-01-13  413.000000  416.350006  408.000000  411.500000  411.500000   \n",
       "2023-01-16  413.500000  414.899994  407.600006  413.000000  413.000000   \n",
       "2023-01-17  413.000000  419.450012  412.500000  415.299988  415.299988   \n",
       "2023-01-18  415.899994  415.950012  407.450012  408.399994  408.399994   \n",
       "2023-01-19  406.500000  407.799988  400.100006  400.750000  400.750000   \n",
       "\n",
       "              Volume  \n",
       "Date                  \n",
       "2019-01-01   6715543  \n",
       "2019-01-02  13410104  \n",
       "2019-01-03   9321842  \n",
       "2019-01-04  17650435  \n",
       "2019-01-07  21438351  \n",
       "...              ...  \n",
       "2023-01-13  10449630  \n",
       "2023-01-16  11462140  \n",
       "2023-01-17  12337969  \n",
       "2023-01-18  13310316  \n",
       "2023-01-19  13126520  \n",
       "\n",
       "[1004 rows x 6 columns]"
      ]
     },
     "execution_count": 3,
     "metadata": {},
     "output_type": "execute_result"
    }
   ],
   "source": [
    "tata.set_index('Date')"
   ]
  },
  {
   "cell_type": "code",
   "execution_count": 5,
   "metadata": {},
   "outputs": [
    {
     "name": "stdout",
     "output_type": "stream",
     "text": [
      "<class 'pandas.core.frame.DataFrame'>\n",
      "RangeIndex: 1004 entries, 0 to 1003\n",
      "Data columns (total 7 columns):\n",
      " #   Column     Non-Null Count  Dtype  \n",
      "---  ------     --------------  -----  \n",
      " 0   Date       1004 non-null   object \n",
      " 1   Open       1004 non-null   float64\n",
      " 2   High       1004 non-null   float64\n",
      " 3   Low        1004 non-null   float64\n",
      " 4   Close      1004 non-null   float64\n",
      " 5   Adj Close  1004 non-null   float64\n",
      " 6   Volume     1004 non-null   int64  \n",
      "dtypes: float64(5), int64(1), object(1)\n",
      "memory usage: 55.0+ KB\n"
     ]
    }
   ],
   "source": [
    "tata.info()"
   ]
  },
  {
   "cell_type": "code",
   "execution_count": 21,
   "metadata": {},
   "outputs": [],
   "source": [
    "tata.Date=pd.to_datetime(tata.Date)"
   ]
  },
  {
   "cell_type": "code",
   "execution_count": 22,
   "metadata": {},
   "outputs": [
    {
     "name": "stdout",
     "output_type": "stream",
     "text": [
      "<class 'pandas.core.frame.DataFrame'>\n",
      "RangeIndex: 1004 entries, 0 to 1003\n",
      "Data columns (total 7 columns):\n",
      " #   Column     Non-Null Count  Dtype         \n",
      "---  ------     --------------  -----         \n",
      " 0   Date       1004 non-null   datetime64[ns]\n",
      " 1   Open       1004 non-null   float64       \n",
      " 2   High       1004 non-null   float64       \n",
      " 3   Low        1004 non-null   float64       \n",
      " 4   Close      1004 non-null   float64       \n",
      " 5   Adj Close  1004 non-null   float64       \n",
      " 6   Volume     1004 non-null   int64         \n",
      "dtypes: datetime64[ns](1), float64(5), int64(1)\n",
      "memory usage: 55.0 KB\n"
     ]
    }
   ],
   "source": [
    "tata.info()"
   ]
  },
  {
   "cell_type": "code",
   "execution_count": 23,
   "metadata": {},
   "outputs": [],
   "source": [
    "tata_motors=tata[[\"Date\",\"Close\"]]"
   ]
  },
  {
   "cell_type": "code",
   "execution_count": 24,
   "metadata": {},
   "outputs": [],
   "source": [
    "tata_motors.set_index('Date',inplace=True)"
   ]
  },
  {
   "cell_type": "code",
   "execution_count": 25,
   "metadata": {},
   "outputs": [
    {
     "ename": "AttributeError",
     "evalue": "'DataFrame' object has no attribute 'Date'",
     "output_type": "error",
     "traceback": [
      "\u001b[1;31m---------------------------------------------------------------------------\u001b[0m",
      "\u001b[1;31mAttributeError\u001b[0m                            Traceback (most recent call last)",
      "\u001b[1;32m<ipython-input-25-b2a5821bc834>\u001b[0m in \u001b[0;36m<module>\u001b[1;34m\u001b[0m\n\u001b[1;32m----> 1\u001b[1;33m \u001b[0mtata_motors\u001b[0m\u001b[1;33m.\u001b[0m\u001b[0mDate\u001b[0m\u001b[1;33m=\u001b[0m\u001b[0mpd\u001b[0m\u001b[1;33m.\u001b[0m\u001b[0mto_datetime\u001b[0m\u001b[1;33m(\u001b[0m\u001b[0mtata_motors\u001b[0m\u001b[1;33m.\u001b[0m\u001b[0mDate\u001b[0m\u001b[1;33m)\u001b[0m\u001b[1;33m\u001b[0m\u001b[1;33m\u001b[0m\u001b[0m\n\u001b[0m",
      "\u001b[1;32m~\\anaconda3\\lib\\site-packages\\pandas\\core\\generic.py\u001b[0m in \u001b[0;36m__getattr__\u001b[1;34m(self, name)\u001b[0m\n\u001b[0;32m   5272\u001b[0m             \u001b[1;32mif\u001b[0m \u001b[0mself\u001b[0m\u001b[1;33m.\u001b[0m\u001b[0m_info_axis\u001b[0m\u001b[1;33m.\u001b[0m\u001b[0m_can_hold_identifiers_and_holds_name\u001b[0m\u001b[1;33m(\u001b[0m\u001b[0mname\u001b[0m\u001b[1;33m)\u001b[0m\u001b[1;33m:\u001b[0m\u001b[1;33m\u001b[0m\u001b[1;33m\u001b[0m\u001b[0m\n\u001b[0;32m   5273\u001b[0m                 \u001b[1;32mreturn\u001b[0m \u001b[0mself\u001b[0m\u001b[1;33m[\u001b[0m\u001b[0mname\u001b[0m\u001b[1;33m]\u001b[0m\u001b[1;33m\u001b[0m\u001b[1;33m\u001b[0m\u001b[0m\n\u001b[1;32m-> 5274\u001b[1;33m             \u001b[1;32mreturn\u001b[0m \u001b[0mobject\u001b[0m\u001b[1;33m.\u001b[0m\u001b[0m__getattribute__\u001b[0m\u001b[1;33m(\u001b[0m\u001b[0mself\u001b[0m\u001b[1;33m,\u001b[0m \u001b[0mname\u001b[0m\u001b[1;33m)\u001b[0m\u001b[1;33m\u001b[0m\u001b[1;33m\u001b[0m\u001b[0m\n\u001b[0m\u001b[0;32m   5275\u001b[0m \u001b[1;33m\u001b[0m\u001b[0m\n\u001b[0;32m   5276\u001b[0m     \u001b[1;32mdef\u001b[0m \u001b[0m__setattr__\u001b[0m\u001b[1;33m(\u001b[0m\u001b[0mself\u001b[0m\u001b[1;33m,\u001b[0m \u001b[0mname\u001b[0m\u001b[1;33m:\u001b[0m \u001b[0mstr\u001b[0m\u001b[1;33m,\u001b[0m \u001b[0mvalue\u001b[0m\u001b[1;33m)\u001b[0m \u001b[1;33m->\u001b[0m \u001b[1;32mNone\u001b[0m\u001b[1;33m:\u001b[0m\u001b[1;33m\u001b[0m\u001b[1;33m\u001b[0m\u001b[0m\n",
      "\u001b[1;31mAttributeError\u001b[0m: 'DataFrame' object has no attribute 'Date'"
     ]
    }
   ],
   "source": [
    "tata_motors.Date=pd.to_datetime(tata_motors.Date)"
   ]
  },
  {
   "cell_type": "code",
   "execution_count": 26,
   "metadata": {},
   "outputs": [
    {
     "name": "stdout",
     "output_type": "stream",
     "text": [
      "<class 'pandas.core.frame.DataFrame'>\n",
      "DatetimeIndex: 1004 entries, 2019-01-01 to 2023-01-19\n",
      "Data columns (total 1 columns):\n",
      " #   Column  Non-Null Count  Dtype  \n",
      "---  ------  --------------  -----  \n",
      " 0   Close   1004 non-null   float64\n",
      "dtypes: float64(1)\n",
      "memory usage: 15.7 KB\n"
     ]
    }
   ],
   "source": [
    "tata_motors.info()"
   ]
  },
  {
   "cell_type": "code",
   "execution_count": 27,
   "metadata": {},
   "outputs": [
    {
     "ename": "KeyError",
     "evalue": "'Date'",
     "output_type": "error",
     "traceback": [
      "\u001b[1;31m---------------------------------------------------------------------------\u001b[0m",
      "\u001b[1;31mKeyError\u001b[0m                                  Traceback (most recent call last)",
      "\u001b[1;32m~\\anaconda3\\lib\\site-packages\\pandas\\core\\indexes\\base.py\u001b[0m in \u001b[0;36mget_loc\u001b[1;34m(self, key, method, tolerance)\u001b[0m\n\u001b[0;32m   2645\u001b[0m             \u001b[1;32mtry\u001b[0m\u001b[1;33m:\u001b[0m\u001b[1;33m\u001b[0m\u001b[1;33m\u001b[0m\u001b[0m\n\u001b[1;32m-> 2646\u001b[1;33m                 \u001b[1;32mreturn\u001b[0m \u001b[0mself\u001b[0m\u001b[1;33m.\u001b[0m\u001b[0m_engine\u001b[0m\u001b[1;33m.\u001b[0m\u001b[0mget_loc\u001b[0m\u001b[1;33m(\u001b[0m\u001b[0mkey\u001b[0m\u001b[1;33m)\u001b[0m\u001b[1;33m\u001b[0m\u001b[1;33m\u001b[0m\u001b[0m\n\u001b[0m\u001b[0;32m   2647\u001b[0m             \u001b[1;32mexcept\u001b[0m \u001b[0mKeyError\u001b[0m\u001b[1;33m:\u001b[0m\u001b[1;33m\u001b[0m\u001b[1;33m\u001b[0m\u001b[0m\n",
      "\u001b[1;32mpandas\\_libs\\index.pyx\u001b[0m in \u001b[0;36mpandas._libs.index.IndexEngine.get_loc\u001b[1;34m()\u001b[0m\n",
      "\u001b[1;32mpandas\\_libs\\index.pyx\u001b[0m in \u001b[0;36mpandas._libs.index.IndexEngine.get_loc\u001b[1;34m()\u001b[0m\n",
      "\u001b[1;32mpandas\\_libs\\hashtable_class_helper.pxi\u001b[0m in \u001b[0;36mpandas._libs.hashtable.PyObjectHashTable.get_item\u001b[1;34m()\u001b[0m\n",
      "\u001b[1;32mpandas\\_libs\\hashtable_class_helper.pxi\u001b[0m in \u001b[0;36mpandas._libs.hashtable.PyObjectHashTable.get_item\u001b[1;34m()\u001b[0m\n",
      "\u001b[1;31mKeyError\u001b[0m: 'Date'",
      "\nDuring handling of the above exception, another exception occurred:\n",
      "\u001b[1;31mKeyError\u001b[0m                                  Traceback (most recent call last)",
      "\u001b[1;32m<ipython-input-27-2e6ce1bc5cf7>\u001b[0m in \u001b[0;36m<module>\u001b[1;34m\u001b[0m\n\u001b[0;32m      6\u001b[0m \u001b[0mplt\u001b[0m\u001b[1;33m.\u001b[0m\u001b[0mylabel\u001b[0m\u001b[1;33m(\u001b[0m\u001b[1;34m'Close Prices'\u001b[0m\u001b[1;33m,\u001b[0m\u001b[0mfontsize\u001b[0m\u001b[1;33m=\u001b[0m\u001b[1;36m20\u001b[0m\u001b[1;33m)\u001b[0m\u001b[1;33m\u001b[0m\u001b[1;33m\u001b[0m\u001b[0m\n\u001b[0;32m      7\u001b[0m \u001b[0mplt\u001b[0m\u001b[1;33m.\u001b[0m\u001b[0myticks\u001b[0m\u001b[1;33m(\u001b[0m\u001b[0mfontsize\u001b[0m\u001b[1;33m=\u001b[0m\u001b[1;36m15\u001b[0m\u001b[1;33m)\u001b[0m\u001b[1;33m\u001b[0m\u001b[1;33m\u001b[0m\u001b[0m\n\u001b[1;32m----> 8\u001b[1;33m \u001b[0mplt\u001b[0m\u001b[1;33m.\u001b[0m\u001b[0mplot\u001b[0m\u001b[1;33m(\u001b[0m\u001b[0mtata_motors\u001b[0m\u001b[1;33m[\u001b[0m\u001b[1;34m'Date'\u001b[0m\u001b[1;33m]\u001b[0m\u001b[1;33m,\u001b[0m\u001b[0mtata_motors\u001b[0m\u001b[1;33m[\u001b[0m\u001b[1;34m'Close'\u001b[0m\u001b[1;33m]\u001b[0m\u001b[1;33m,\u001b[0m\u001b[0mlinewidth\u001b[0m\u001b[1;33m=\u001b[0m\u001b[1;36m3\u001b[0m\u001b[1;33m,\u001b[0m\u001b[0mcolor\u001b[0m\u001b[1;33m=\u001b[0m\u001b[1;34m'blue'\u001b[0m\u001b[1;33m)\u001b[0m\u001b[1;33m\u001b[0m\u001b[1;33m\u001b[0m\u001b[0m\n\u001b[0m\u001b[0;32m      9\u001b[0m \u001b[0mplt\u001b[0m\u001b[1;33m.\u001b[0m\u001b[0mtitle\u001b[0m\u001b[1;33m(\u001b[0m\u001b[1;34m'Tata Motors Stock Closing Price'\u001b[0m\u001b[1;33m,\u001b[0m\u001b[0mfontsize\u001b[0m\u001b[1;33m=\u001b[0m\u001b[1;36m30\u001b[0m\u001b[1;33m)\u001b[0m\u001b[1;33m\u001b[0m\u001b[1;33m\u001b[0m\u001b[0m\n\u001b[0;32m     10\u001b[0m \u001b[0mplt\u001b[0m\u001b[1;33m.\u001b[0m\u001b[0mshow\u001b[0m\u001b[1;33m(\u001b[0m\u001b[1;33m)\u001b[0m\u001b[1;33m\u001b[0m\u001b[1;33m\u001b[0m\u001b[0m\n",
      "\u001b[1;32m~\\anaconda3\\lib\\site-packages\\pandas\\core\\frame.py\u001b[0m in \u001b[0;36m__getitem__\u001b[1;34m(self, key)\u001b[0m\n\u001b[0;32m   2798\u001b[0m             \u001b[1;32mif\u001b[0m \u001b[0mself\u001b[0m\u001b[1;33m.\u001b[0m\u001b[0mcolumns\u001b[0m\u001b[1;33m.\u001b[0m\u001b[0mnlevels\u001b[0m \u001b[1;33m>\u001b[0m \u001b[1;36m1\u001b[0m\u001b[1;33m:\u001b[0m\u001b[1;33m\u001b[0m\u001b[1;33m\u001b[0m\u001b[0m\n\u001b[0;32m   2799\u001b[0m                 \u001b[1;32mreturn\u001b[0m \u001b[0mself\u001b[0m\u001b[1;33m.\u001b[0m\u001b[0m_getitem_multilevel\u001b[0m\u001b[1;33m(\u001b[0m\u001b[0mkey\u001b[0m\u001b[1;33m)\u001b[0m\u001b[1;33m\u001b[0m\u001b[1;33m\u001b[0m\u001b[0m\n\u001b[1;32m-> 2800\u001b[1;33m             \u001b[0mindexer\u001b[0m \u001b[1;33m=\u001b[0m \u001b[0mself\u001b[0m\u001b[1;33m.\u001b[0m\u001b[0mcolumns\u001b[0m\u001b[1;33m.\u001b[0m\u001b[0mget_loc\u001b[0m\u001b[1;33m(\u001b[0m\u001b[0mkey\u001b[0m\u001b[1;33m)\u001b[0m\u001b[1;33m\u001b[0m\u001b[1;33m\u001b[0m\u001b[0m\n\u001b[0m\u001b[0;32m   2801\u001b[0m             \u001b[1;32mif\u001b[0m \u001b[0mis_integer\u001b[0m\u001b[1;33m(\u001b[0m\u001b[0mindexer\u001b[0m\u001b[1;33m)\u001b[0m\u001b[1;33m:\u001b[0m\u001b[1;33m\u001b[0m\u001b[1;33m\u001b[0m\u001b[0m\n\u001b[0;32m   2802\u001b[0m                 \u001b[0mindexer\u001b[0m \u001b[1;33m=\u001b[0m \u001b[1;33m[\u001b[0m\u001b[0mindexer\u001b[0m\u001b[1;33m]\u001b[0m\u001b[1;33m\u001b[0m\u001b[1;33m\u001b[0m\u001b[0m\n",
      "\u001b[1;32m~\\anaconda3\\lib\\site-packages\\pandas\\core\\indexes\\base.py\u001b[0m in \u001b[0;36mget_loc\u001b[1;34m(self, key, method, tolerance)\u001b[0m\n\u001b[0;32m   2646\u001b[0m                 \u001b[1;32mreturn\u001b[0m \u001b[0mself\u001b[0m\u001b[1;33m.\u001b[0m\u001b[0m_engine\u001b[0m\u001b[1;33m.\u001b[0m\u001b[0mget_loc\u001b[0m\u001b[1;33m(\u001b[0m\u001b[0mkey\u001b[0m\u001b[1;33m)\u001b[0m\u001b[1;33m\u001b[0m\u001b[1;33m\u001b[0m\u001b[0m\n\u001b[0;32m   2647\u001b[0m             \u001b[1;32mexcept\u001b[0m \u001b[0mKeyError\u001b[0m\u001b[1;33m:\u001b[0m\u001b[1;33m\u001b[0m\u001b[1;33m\u001b[0m\u001b[0m\n\u001b[1;32m-> 2648\u001b[1;33m                 \u001b[1;32mreturn\u001b[0m \u001b[0mself\u001b[0m\u001b[1;33m.\u001b[0m\u001b[0m_engine\u001b[0m\u001b[1;33m.\u001b[0m\u001b[0mget_loc\u001b[0m\u001b[1;33m(\u001b[0m\u001b[0mself\u001b[0m\u001b[1;33m.\u001b[0m\u001b[0m_maybe_cast_indexer\u001b[0m\u001b[1;33m(\u001b[0m\u001b[0mkey\u001b[0m\u001b[1;33m)\u001b[0m\u001b[1;33m)\u001b[0m\u001b[1;33m\u001b[0m\u001b[1;33m\u001b[0m\u001b[0m\n\u001b[0m\u001b[0;32m   2649\u001b[0m         \u001b[0mindexer\u001b[0m \u001b[1;33m=\u001b[0m \u001b[0mself\u001b[0m\u001b[1;33m.\u001b[0m\u001b[0mget_indexer\u001b[0m\u001b[1;33m(\u001b[0m\u001b[1;33m[\u001b[0m\u001b[0mkey\u001b[0m\u001b[1;33m]\u001b[0m\u001b[1;33m,\u001b[0m \u001b[0mmethod\u001b[0m\u001b[1;33m=\u001b[0m\u001b[0mmethod\u001b[0m\u001b[1;33m,\u001b[0m \u001b[0mtolerance\u001b[0m\u001b[1;33m=\u001b[0m\u001b[0mtolerance\u001b[0m\u001b[1;33m)\u001b[0m\u001b[1;33m\u001b[0m\u001b[1;33m\u001b[0m\u001b[0m\n\u001b[0;32m   2650\u001b[0m         \u001b[1;32mif\u001b[0m \u001b[0mindexer\u001b[0m\u001b[1;33m.\u001b[0m\u001b[0mndim\u001b[0m \u001b[1;33m>\u001b[0m \u001b[1;36m1\u001b[0m \u001b[1;32mor\u001b[0m \u001b[0mindexer\u001b[0m\u001b[1;33m.\u001b[0m\u001b[0msize\u001b[0m \u001b[1;33m>\u001b[0m \u001b[1;36m1\u001b[0m\u001b[1;33m:\u001b[0m\u001b[1;33m\u001b[0m\u001b[1;33m\u001b[0m\u001b[0m\n",
      "\u001b[1;32mpandas\\_libs\\index.pyx\u001b[0m in \u001b[0;36mpandas._libs.index.IndexEngine.get_loc\u001b[1;34m()\u001b[0m\n",
      "\u001b[1;32mpandas\\_libs\\index.pyx\u001b[0m in \u001b[0;36mpandas._libs.index.IndexEngine.get_loc\u001b[1;34m()\u001b[0m\n",
      "\u001b[1;32mpandas\\_libs\\hashtable_class_helper.pxi\u001b[0m in \u001b[0;36mpandas._libs.hashtable.PyObjectHashTable.get_item\u001b[1;34m()\u001b[0m\n",
      "\u001b[1;32mpandas\\_libs\\hashtable_class_helper.pxi\u001b[0m in \u001b[0;36mpandas._libs.hashtable.PyObjectHashTable.get_item\u001b[1;34m()\u001b[0m\n",
      "\u001b[1;31mKeyError\u001b[0m: 'Date'"
     ]
    },
    {
     "data": {
      "image/png": "[encoded data removed]",
      "text/plain": [
       "<Figure size 1080x504 with 1 Axes>"
      ]
     },
     "metadata": {},
     "output_type": "display_data"
    }
   ],
   "source": [
    "plt.style.use('ggplot')\n",
    "plt.figure(figsize=(15,7))\n",
    "plt.grid(True)\n",
    "plt.xlabel('Date',fontsize=20)\n",
    "plt.xticks(fontsize=15)\n",
    "plt.ylabel('Close Prices',fontsize=20) \n",
    "plt.yticks(fontsize=15)\n",
    "plt.plot(tata_motors['Date'],tata_motors['Close'],linewidth=3,color='blue')\n",
    "plt.title('Tata Motors Stock Closing Price',fontsize=30)\n",
    "plt.show()"
   ]
  },
  {
   "cell_type": "code",
   "execution_count": 28,
   "metadata": {},
   "outputs": [
    {
     "data": {
      "image/png": "[encoded data removed]",
      "text/plain": [
       "<Figure size 1080x504 with 1 Axes>"
      ]
     },
     "metadata": {},
     "output_type": "display_data"
    }
   ],
   "source": [
    "plt.figure(figsize=(15,7))\n",
    "plt.plot(tata['Date'],tata['Close'],color='red',linewidth=2)\n",
    "plt.xlabel('Date')\n",
    "plt.ylabel('Close Price')\n",
    "plt.title(' Tata Stock Price')\n",
    "plt.xticks(rotation=90)\n",
    "plt.grid(True)\n",
    "plt.show()"
   ]
  },
  {
   "cell_type": "code",
   "execution_count": 29,
   "metadata": {},
   "outputs": [
    {
     "data": {
      "text/plain": [
       "<matplotlib.axes._subplots.AxesSubplot at 0x116f6f6ad30>"
      ]
     },
     "execution_count": 29,
     "metadata": {},
     "output_type": "execute_result"
    },
    {
     "data": {
      "image/png": "[encoded data removed]",
      "text/plain": [
       "<Figure size 432x288 with 1 Axes>"
      ]
     },
     "metadata": {},
     "output_type": "display_data"
    }
   ],
   "source": [
    "import seaborn as sns\n",
    "sns.distplot(tata_motors['Close'])"
   ]
  },
  {
   "cell_type": "code",
   "execution_count": 30,
   "metadata": {},
   "outputs": [
    {
     "data": {
      "image/png": "[encoded data removed]",
      "text/plain": [
       "<Figure size 1296x576 with 1 Axes>"
      ]
     },
     "metadata": {},
     "output_type": "display_data"
    }
   ],
   "source": [
    "#Distribution of the close price \n",
    "df_close=tata_motors['Close']\n",
    "df_close.plot(kind='kde',figsize=(18,8),linewidth=3)\n",
    "plt.xticks(fontsize=15)\n",
    "plt.grid(\"both\")\n",
    "plt.ylabel('Density',fontsize=20)\n",
    "plt.yticks(fontsize=15)\n",
    "plt.show()"
   ]
  },
  {
   "cell_type": "code",
   "execution_count": 31,
   "metadata": {},
   "outputs": [
    {
     "data": {
      "text/html": [
       "<div>\n",
       "<style scoped>\n",
       "    .dataframe tbody tr th:only-of-type {\n",
       "        vertical-align: middle;\n",
       "    }\n",
       "\n",
       "    .dataframe tbody tr th {\n",
       "        vertical-align: top;\n",
       "    }\n",
       "\n",
       "    .dataframe thead th {\n",
       "        text-align: right;\n",
       "    }\n",
       "</style>\n",
       "<table border=\"1\" class=\"dataframe\">\n",
       "  <thead>\n",
       "    <tr style=\"text-align: right;\">\n",
       "      <th></th>\n",
       "      <th>Date</th>\n",
       "      <th>Open</th>\n",
       "      <th>High</th>\n",
       "      <th>Low</th>\n",
       "      <th>Close</th>\n",
       "      <th>Adj Close</th>\n",
       "      <th>Volume</th>\n",
       "    </tr>\n",
       "  </thead>\n",
       "  <tbody>\n",
       "    <tr>\n",
       "      <th>0</th>\n",
       "      <td>2019-01-01</td>\n",
       "      <td>173.500000</td>\n",
       "      <td>174.199997</td>\n",
       "      <td>171.300003</td>\n",
       "      <td>173.449997</td>\n",
       "      <td>173.449997</td>\n",
       "      <td>6715543</td>\n",
       "    </tr>\n",
       "    <tr>\n",
       "      <th>1</th>\n",
       "      <td>2019-01-02</td>\n",
       "      <td>170.600006</td>\n",
       "      <td>171.750000</td>\n",
       "      <td>168.000000</td>\n",
       "      <td>168.550003</td>\n",
       "      <td>168.550003</td>\n",
       "      <td>13410104</td>\n",
       "    </tr>\n",
       "    <tr>\n",
       "      <th>2</th>\n",
       "      <td>2019-01-03</td>\n",
       "      <td>169.000000</td>\n",
       "      <td>170.149994</td>\n",
       "      <td>165.100006</td>\n",
       "      <td>166.050003</td>\n",
       "      <td>166.050003</td>\n",
       "      <td>9321842</td>\n",
       "    </tr>\n",
       "    <tr>\n",
       "      <th>3</th>\n",
       "      <td>2019-01-04</td>\n",
       "      <td>169.000000</td>\n",
       "      <td>171.949997</td>\n",
       "      <td>168.500000</td>\n",
       "      <td>170.949997</td>\n",
       "      <td>170.949997</td>\n",
       "      <td>17650435</td>\n",
       "    </tr>\n",
       "    <tr>\n",
       "      <th>4</th>\n",
       "      <td>2019-01-07</td>\n",
       "      <td>173.199997</td>\n",
       "      <td>178.199997</td>\n",
       "      <td>173.199997</td>\n",
       "      <td>175.350006</td>\n",
       "      <td>175.350006</td>\n",
       "      <td>21438351</td>\n",
       "    </tr>\n",
       "    <tr>\n",
       "      <th>...</th>\n",
       "      <td>...</td>\n",
       "      <td>...</td>\n",
       "      <td>...</td>\n",
       "      <td>...</td>\n",
       "      <td>...</td>\n",
       "      <td>...</td>\n",
       "      <td>...</td>\n",
       "    </tr>\n",
       "    <tr>\n",
       "      <th>999</th>\n",
       "      <td>2023-01-13</td>\n",
       "      <td>413.000000</td>\n",
       "      <td>416.350006</td>\n",
       "      <td>408.000000</td>\n",
       "      <td>411.500000</td>\n",
       "      <td>411.500000</td>\n",
       "      <td>10449630</td>\n",
       "    </tr>\n",
       "    <tr>\n",
       "      <th>1000</th>\n",
       "      <td>2023-01-16</td>\n",
       "      <td>413.500000</td>\n",
       "      <td>414.899994</td>\n",
       "      <td>407.600006</td>\n",
       "      <td>413.000000</td>\n",
       "      <td>413.000000</td>\n",
       "      <td>11462140</td>\n",
       "    </tr>\n",
       "    <tr>\n",
       "      <th>1001</th>\n",
       "      <td>2023-01-17</td>\n",
       "      <td>413.000000</td>\n",
       "      <td>419.450012</td>\n",
       "      <td>412.500000</td>\n",
       "      <td>415.299988</td>\n",
       "      <td>415.299988</td>\n",
       "      <td>12337969</td>\n",
       "    </tr>\n",
       "    <tr>\n",
       "      <th>1002</th>\n",
       "      <td>2023-01-18</td>\n",
       "      <td>415.899994</td>\n",
       "      <td>415.950012</td>\n",
       "      <td>407.450012</td>\n",
       "      <td>408.399994</td>\n",
       "      <td>408.399994</td>\n",
       "      <td>13310316</td>\n",
       "    </tr>\n",
       "    <tr>\n",
       "      <th>1003</th>\n",
       "      <td>2023-01-19</td>\n",
       "      <td>406.500000</td>\n",
       "      <td>407.799988</td>\n",
       "      <td>400.100006</td>\n",
       "      <td>400.750000</td>\n",
       "      <td>400.750000</td>\n",
       "      <td>13126520</td>\n",
       "    </tr>\n",
       "  </tbody>\n",
       "</table>\n",
       "<p>1004 rows × 7 columns</p>\n",
       "</div>"
      ],
      "text/plain": [
       "           Date        Open        High         Low       Close   Adj Close  \\\n",
       "0    2019-01-01  173.500000  174.199997  171.300003  173.449997  173.449997   \n",
       "1    2019-01-02  170.600006  171.750000  168.000000  168.550003  168.550003   \n",
       "2    2019-01-03  169.000000  170.149994  165.100006  166.050003  166.050003   \n",
       "3    2019-01-04  169.000000  171.949997  168.500000  170.949997  170.949997   \n",
       "4    2019-01-07  173.199997  178.199997  173.199997  175.350006  175.350006   \n",
       "...         ...         ...         ...         ...         ...         ...   \n",
       "999  2023-01-13  413.000000  416.350006  408.000000  411.500000  411.500000   \n",
       "1000 2023-01-16  413.500000  414.899994  407.600006  413.000000  413.000000   \n",
       "1001 2023-01-17  413.000000  419.450012  412.500000  415.299988  415.299988   \n",
       "1002 2023-01-18  415.899994  415.950012  407.450012  408.399994  408.399994   \n",
       "1003 2023-01-19  406.500000  407.799988  400.100006  400.750000  400.750000   \n",
       "\n",
       "        Volume  \n",
       "0      6715543  \n",
       "1     13410104  \n",
       "2      9321842  \n",
       "3     17650435  \n",
       "4     21438351  \n",
       "...        ...  \n",
       "999   10449630  \n",
       "1000  11462140  \n",
       "1001  12337969  \n",
       "1002  13310316  \n",
       "1003  13126520  \n",
       "\n",
       "[1004 rows x 7 columns]"
      ]
     },
     "execution_count": 31,
     "metadata": {},
     "output_type": "execute_result"
    }
   ],
   "source": [
    "tata"
   ]
  },
  {
   "cell_type": "code",
   "execution_count": 32,
   "metadata": {},
   "outputs": [
    {
     "data": {
      "text/plain": [
       "pandas.core.series.Series"
      ]
     },
     "execution_count": 32,
     "metadata": {},
     "output_type": "execute_result"
    }
   ],
   "source": [
    "type(tata_motors['Close'])"
   ]
  },
  {
   "cell_type": "code",
   "execution_count": 33,
   "metadata": {},
   "outputs": [
    {
     "ename": "KeyError",
     "evalue": "'Date'",
     "output_type": "error",
     "traceback": [
      "\u001b[1;31m---------------------------------------------------------------------------\u001b[0m",
      "\u001b[1;31mKeyError\u001b[0m                                  Traceback (most recent call last)",
      "\u001b[1;32m~\\anaconda3\\lib\\site-packages\\pandas\\core\\indexes\\base.py\u001b[0m in \u001b[0;36mget_loc\u001b[1;34m(self, key, method, tolerance)\u001b[0m\n\u001b[0;32m   2645\u001b[0m             \u001b[1;32mtry\u001b[0m\u001b[1;33m:\u001b[0m\u001b[1;33m\u001b[0m\u001b[1;33m\u001b[0m\u001b[0m\n\u001b[1;32m-> 2646\u001b[1;33m                 \u001b[1;32mreturn\u001b[0m \u001b[0mself\u001b[0m\u001b[1;33m.\u001b[0m\u001b[0m_engine\u001b[0m\u001b[1;33m.\u001b[0m\u001b[0mget_loc\u001b[0m\u001b[1;33m(\u001b[0m\u001b[0mkey\u001b[0m\u001b[1;33m)\u001b[0m\u001b[1;33m\u001b[0m\u001b[1;33m\u001b[0m\u001b[0m\n\u001b[0m\u001b[0;32m   2647\u001b[0m             \u001b[1;32mexcept\u001b[0m \u001b[0mKeyError\u001b[0m\u001b[1;33m:\u001b[0m\u001b[1;33m\u001b[0m\u001b[1;33m\u001b[0m\u001b[0m\n",
      "\u001b[1;32mpandas\\_libs\\index.pyx\u001b[0m in \u001b[0;36mpandas._libs.index.IndexEngine.get_loc\u001b[1;34m()\u001b[0m\n",
      "\u001b[1;32mpandas\\_libs\\index.pyx\u001b[0m in \u001b[0;36mpandas._libs.index.IndexEngine.get_loc\u001b[1;34m()\u001b[0m\n",
      "\u001b[1;32mpandas\\_libs\\hashtable_class_helper.pxi\u001b[0m in \u001b[0;36mpandas._libs.hashtable.PyObjectHashTable.get_item\u001b[1;34m()\u001b[0m\n",
      "\u001b[1;32mpandas\\_libs\\hashtable_class_helper.pxi\u001b[0m in \u001b[0;36mpandas._libs.hashtable.PyObjectHashTable.get_item\u001b[1;34m()\u001b[0m\n",
      "\u001b[1;31mKeyError\u001b[0m: 'Date'",
      "\nDuring handling of the above exception, another exception occurred:\n",
      "\u001b[1;31mKeyError\u001b[0m                                  Traceback (most recent call last)",
      "\u001b[1;32m<ipython-input-33-c29bf6d2d2b5>\u001b[0m in \u001b[0;36m<module>\u001b[1;34m\u001b[0m\n\u001b[1;32m----> 1\u001b[1;33m \u001b[0mtype\u001b[0m\u001b[1;33m(\u001b[0m\u001b[0mtata_motors\u001b[0m\u001b[1;33m[\u001b[0m\u001b[1;34m'Date'\u001b[0m\u001b[1;33m]\u001b[0m\u001b[1;33m)\u001b[0m\u001b[1;33m\u001b[0m\u001b[1;33m\u001b[0m\u001b[0m\n\u001b[0m",
      "\u001b[1;32m~\\anaconda3\\lib\\site-packages\\pandas\\core\\frame.py\u001b[0m in \u001b[0;36m__getitem__\u001b[1;34m(self, key)\u001b[0m\n\u001b[0;32m   2798\u001b[0m             \u001b[1;32mif\u001b[0m \u001b[0mself\u001b[0m\u001b[1;33m.\u001b[0m\u001b[0mcolumns\u001b[0m\u001b[1;33m.\u001b[0m\u001b[0mnlevels\u001b[0m \u001b[1;33m>\u001b[0m \u001b[1;36m1\u001b[0m\u001b[1;33m:\u001b[0m\u001b[1;33m\u001b[0m\u001b[1;33m\u001b[0m\u001b[0m\n\u001b[0;32m   2799\u001b[0m                 \u001b[1;32mreturn\u001b[0m \u001b[0mself\u001b[0m\u001b[1;33m.\u001b[0m\u001b[0m_getitem_multilevel\u001b[0m\u001b[1;33m(\u001b[0m\u001b[0mkey\u001b[0m\u001b[1;33m)\u001b[0m\u001b[1;33m\u001b[0m\u001b[1;33m\u001b[0m\u001b[0m\n\u001b[1;32m-> 2800\u001b[1;33m             \u001b[0mindexer\u001b[0m \u001b[1;33m=\u001b[0m \u001b[0mself\u001b[0m\u001b[1;33m.\u001b[0m\u001b[0mcolumns\u001b[0m\u001b[1;33m.\u001b[0m\u001b[0mget_loc\u001b[0m\u001b[1;33m(\u001b[0m\u001b[0mkey\u001b[0m\u001b[1;33m)\u001b[0m\u001b[1;33m\u001b[0m\u001b[1;33m\u001b[0m\u001b[0m\n\u001b[0m\u001b[0;32m   2801\u001b[0m             \u001b[1;32mif\u001b[0m \u001b[0mis_integer\u001b[0m\u001b[1;33m(\u001b[0m\u001b[0mindexer\u001b[0m\u001b[1;33m)\u001b[0m\u001b[1;33m:\u001b[0m\u001b[1;33m\u001b[0m\u001b[1;33m\u001b[0m\u001b[0m\n\u001b[0;32m   2802\u001b[0m                 \u001b[0mindexer\u001b[0m \u001b[1;33m=\u001b[0m \u001b[1;33m[\u001b[0m\u001b[0mindexer\u001b[0m\u001b[1;33m]\u001b[0m\u001b[1;33m\u001b[0m\u001b[1;33m\u001b[0m\u001b[0m\n",
      "\u001b[1;32m~\\anaconda3\\lib\\site-packages\\pandas\\core\\indexes\\base.py\u001b[0m in \u001b[0;36mget_loc\u001b[1;34m(self, key, method, tolerance)\u001b[0m\n\u001b[0;32m   2646\u001b[0m                 \u001b[1;32mreturn\u001b[0m \u001b[0mself\u001b[0m\u001b[1;33m.\u001b[0m\u001b[0m_engine\u001b[0m\u001b[1;33m.\u001b[0m\u001b[0mget_loc\u001b[0m\u001b[1;33m(\u001b[0m\u001b[0mkey\u001b[0m\u001b[1;33m)\u001b[0m\u001b[1;33m\u001b[0m\u001b[1;33m\u001b[0m\u001b[0m\n\u001b[0;32m   2647\u001b[0m             \u001b[1;32mexcept\u001b[0m \u001b[0mKeyError\u001b[0m\u001b[1;33m:\u001b[0m\u001b[1;33m\u001b[0m\u001b[1;33m\u001b[0m\u001b[0m\n\u001b[1;32m-> 2648\u001b[1;33m                 \u001b[1;32mreturn\u001b[0m \u001b[0mself\u001b[0m\u001b[1;33m.\u001b[0m\u001b[0m_engine\u001b[0m\u001b[1;33m.\u001b[0m\u001b[0mget_loc\u001b[0m\u001b[1;33m(\u001b[0m\u001b[0mself\u001b[0m\u001b[1;33m.\u001b[0m\u001b[0m_maybe_cast_indexer\u001b[0m\u001b[1;33m(\u001b[0m\u001b[0mkey\u001b[0m\u001b[1;33m)\u001b[0m\u001b[1;33m)\u001b[0m\u001b[1;33m\u001b[0m\u001b[1;33m\u001b[0m\u001b[0m\n\u001b[0m\u001b[0;32m   2649\u001b[0m         \u001b[0mindexer\u001b[0m \u001b[1;33m=\u001b[0m \u001b[0mself\u001b[0m\u001b[1;33m.\u001b[0m\u001b[0mget_indexer\u001b[0m\u001b[1;33m(\u001b[0m\u001b[1;33m[\u001b[0m\u001b[0mkey\u001b[0m\u001b[1;33m]\u001b[0m\u001b[1;33m,\u001b[0m \u001b[0mmethod\u001b[0m\u001b[1;33m=\u001b[0m\u001b[0mmethod\u001b[0m\u001b[1;33m,\u001b[0m \u001b[0mtolerance\u001b[0m\u001b[1;33m=\u001b[0m\u001b[0mtolerance\u001b[0m\u001b[1;33m)\u001b[0m\u001b[1;33m\u001b[0m\u001b[1;33m\u001b[0m\u001b[0m\n\u001b[0;32m   2650\u001b[0m         \u001b[1;32mif\u001b[0m \u001b[0mindexer\u001b[0m\u001b[1;33m.\u001b[0m\u001b[0mndim\u001b[0m \u001b[1;33m>\u001b[0m \u001b[1;36m1\u001b[0m \u001b[1;32mor\u001b[0m \u001b[0mindexer\u001b[0m\u001b[1;33m.\u001b[0m\u001b[0msize\u001b[0m \u001b[1;33m>\u001b[0m \u001b[1;36m1\u001b[0m\u001b[1;33m:\u001b[0m\u001b[1;33m\u001b[0m\u001b[1;33m\u001b[0m\u001b[0m\n",
      "\u001b[1;32mpandas\\_libs\\index.pyx\u001b[0m in \u001b[0;36mpandas._libs.index.IndexEngine.get_loc\u001b[1;34m()\u001b[0m\n",
      "\u001b[1;32mpandas\\_libs\\index.pyx\u001b[0m in \u001b[0;36mpandas._libs.index.IndexEngine.get_loc\u001b[1;34m()\u001b[0m\n",
      "\u001b[1;32mpandas\\_libs\\hashtable_class_helper.pxi\u001b[0m in \u001b[0;36mpandas._libs.hashtable.PyObjectHashTable.get_item\u001b[1;34m()\u001b[0m\n",
      "\u001b[1;32mpandas\\_libs\\hashtable_class_helper.pxi\u001b[0m in \u001b[0;36mpandas._libs.hashtable.PyObjectHashTable.get_item\u001b[1;34m()\u001b[0m\n",
      "\u001b[1;31mKeyError\u001b[0m: 'Date'"
     ]
    }
   ],
   "source": [
    "type(tata_motors['Date'])"
   ]
  },
  {
   "cell_type": "code",
   "execution_count": 34,
   "metadata": {},
   "outputs": [
    {
     "data": {
      "text/plain": [
       "178.05000050000004"
      ]
     },
     "execution_count": 34,
     "metadata": {},
     "output_type": "execute_result"
    }
   ],
   "source": [
    "np.mean(tata_motors['Close'].head(12))"
   ]
  },
  {
   "cell_type": "code",
   "execution_count": 35,
   "metadata": {},
   "outputs": [
    {
     "data": {
      "text/plain": [
       "Timestamp('2019-01-08 08:00:00')"
      ]
     },
     "execution_count": 35,
     "metadata": {},
     "output_type": "execute_result"
    }
   ],
   "source": [
    "np.mean(tata['Date'].head(12))"
   ]
  },
  {
   "cell_type": "code",
   "execution_count": 36,
   "metadata": {},
   "outputs": [
    {
     "data": {
      "text/plain": [
       "[<matplotlib.lines.Line2D at 0x116f7062490>]"
      ]
     },
     "execution_count": 36,
     "metadata": {},
     "output_type": "execute_result"
    },
    {
     "data": {
      "image/png": "[encoded data removed]",
      "text/plain": [
       "<Figure size 432x288 with 1 Axes>"
      ]
     },
     "metadata": {},
     "output_type": "display_data"
    }
   ],
   "source": [
    "plt.plot(tata['Date'],tata['Close'])"
   ]
  },
  {
   "cell_type": "code",
   "execution_count": 37,
   "metadata": {},
   "outputs": [
    {
     "ename": "KeyError",
     "evalue": "'Date'",
     "output_type": "error",
     "traceback": [
      "\u001b[1;31m---------------------------------------------------------------------------\u001b[0m",
      "\u001b[1;31mKeyError\u001b[0m                                  Traceback (most recent call last)",
      "\u001b[1;32m~\\anaconda3\\lib\\site-packages\\pandas\\core\\indexes\\base.py\u001b[0m in \u001b[0;36mget_loc\u001b[1;34m(self, key, method, tolerance)\u001b[0m\n\u001b[0;32m   2645\u001b[0m             \u001b[1;32mtry\u001b[0m\u001b[1;33m:\u001b[0m\u001b[1;33m\u001b[0m\u001b[1;33m\u001b[0m\u001b[0m\n\u001b[1;32m-> 2646\u001b[1;33m                 \u001b[1;32mreturn\u001b[0m \u001b[0mself\u001b[0m\u001b[1;33m.\u001b[0m\u001b[0m_engine\u001b[0m\u001b[1;33m.\u001b[0m\u001b[0mget_loc\u001b[0m\u001b[1;33m(\u001b[0m\u001b[0mkey\u001b[0m\u001b[1;33m)\u001b[0m\u001b[1;33m\u001b[0m\u001b[1;33m\u001b[0m\u001b[0m\n\u001b[0m\u001b[0;32m   2647\u001b[0m             \u001b[1;32mexcept\u001b[0m \u001b[0mKeyError\u001b[0m\u001b[1;33m:\u001b[0m\u001b[1;33m\u001b[0m\u001b[1;33m\u001b[0m\u001b[0m\n",
      "\u001b[1;32mpandas\\_libs\\index.pyx\u001b[0m in \u001b[0;36mpandas._libs.index.IndexEngine.get_loc\u001b[1;34m()\u001b[0m\n",
      "\u001b[1;32mpandas\\_libs\\index.pyx\u001b[0m in \u001b[0;36mpandas._libs.index.IndexEngine.get_loc\u001b[1;34m()\u001b[0m\n",
      "\u001b[1;32mpandas\\_libs\\hashtable_class_helper.pxi\u001b[0m in \u001b[0;36mpandas._libs.hashtable.PyObjectHashTable.get_item\u001b[1;34m()\u001b[0m\n",
      "\u001b[1;32mpandas\\_libs\\hashtable_class_helper.pxi\u001b[0m in \u001b[0;36mpandas._libs.hashtable.PyObjectHashTable.get_item\u001b[1;34m()\u001b[0m\n",
      "\u001b[1;31mKeyError\u001b[0m: 'Date'",
      "\nDuring handling of the above exception, another exception occurred:\n",
      "\u001b[1;31mKeyError\u001b[0m                                  Traceback (most recent call last)",
      "\u001b[1;32m<ipython-input-37-31a5ef5efcab>\u001b[0m in \u001b[0;36m<module>\u001b[1;34m\u001b[0m\n\u001b[1;32m----> 1\u001b[1;33m \u001b[0mplt\u001b[0m\u001b[1;33m.\u001b[0m\u001b[0mplot\u001b[0m\u001b[1;33m(\u001b[0m\u001b[0mtata_motors\u001b[0m\u001b[1;33m[\u001b[0m\u001b[1;34m'Date'\u001b[0m\u001b[1;33m]\u001b[0m\u001b[1;33m,\u001b[0m\u001b[0mtata_motors\u001b[0m\u001b[1;33m[\u001b[0m\u001b[1;34m'Close'\u001b[0m\u001b[1;33m]\u001b[0m\u001b[1;33m.\u001b[0m\u001b[0mrolling\u001b[0m\u001b[1;33m(\u001b[0m\u001b[1;36m365\u001b[0m\u001b[1;33m)\u001b[0m\u001b[1;33m.\u001b[0m\u001b[0mmean\u001b[0m\u001b[1;33m(\u001b[0m\u001b[1;33m)\u001b[0m\u001b[1;33m)\u001b[0m\u001b[1;33m\u001b[0m\u001b[1;33m\u001b[0m\u001b[0m\n\u001b[0m",
      "\u001b[1;32m~\\anaconda3\\lib\\site-packages\\pandas\\core\\frame.py\u001b[0m in \u001b[0;36m__getitem__\u001b[1;34m(self, key)\u001b[0m\n\u001b[0;32m   2798\u001b[0m             \u001b[1;32mif\u001b[0m \u001b[0mself\u001b[0m\u001b[1;33m.\u001b[0m\u001b[0mcolumns\u001b[0m\u001b[1;33m.\u001b[0m\u001b[0mnlevels\u001b[0m \u001b[1;33m>\u001b[0m \u001b[1;36m1\u001b[0m\u001b[1;33m:\u001b[0m\u001b[1;33m\u001b[0m\u001b[1;33m\u001b[0m\u001b[0m\n\u001b[0;32m   2799\u001b[0m                 \u001b[1;32mreturn\u001b[0m \u001b[0mself\u001b[0m\u001b[1;33m.\u001b[0m\u001b[0m_getitem_multilevel\u001b[0m\u001b[1;33m(\u001b[0m\u001b[0mkey\u001b[0m\u001b[1;33m)\u001b[0m\u001b[1;33m\u001b[0m\u001b[1;33m\u001b[0m\u001b[0m\n\u001b[1;32m-> 2800\u001b[1;33m             \u001b[0mindexer\u001b[0m \u001b[1;33m=\u001b[0m \u001b[0mself\u001b[0m\u001b[1;33m.\u001b[0m\u001b[0mcolumns\u001b[0m\u001b[1;33m.\u001b[0m\u001b[0mget_loc\u001b[0m\u001b[1;33m(\u001b[0m\u001b[0mkey\u001b[0m\u001b[1;33m)\u001b[0m\u001b[1;33m\u001b[0m\u001b[1;33m\u001b[0m\u001b[0m\n\u001b[0m\u001b[0;32m   2801\u001b[0m             \u001b[1;32mif\u001b[0m \u001b[0mis_integer\u001b[0m\u001b[1;33m(\u001b[0m\u001b[0mindexer\u001b[0m\u001b[1;33m)\u001b[0m\u001b[1;33m:\u001b[0m\u001b[1;33m\u001b[0m\u001b[1;33m\u001b[0m\u001b[0m\n\u001b[0;32m   2802\u001b[0m                 \u001b[0mindexer\u001b[0m \u001b[1;33m=\u001b[0m \u001b[1;33m[\u001b[0m\u001b[0mindexer\u001b[0m\u001b[1;33m]\u001b[0m\u001b[1;33m\u001b[0m\u001b[1;33m\u001b[0m\u001b[0m\n",
      "\u001b[1;32m~\\anaconda3\\lib\\site-packages\\pandas\\core\\indexes\\base.py\u001b[0m in \u001b[0;36mget_loc\u001b[1;34m(self, key, method, tolerance)\u001b[0m\n\u001b[0;32m   2646\u001b[0m                 \u001b[1;32mreturn\u001b[0m \u001b[0mself\u001b[0m\u001b[1;33m.\u001b[0m\u001b[0m_engine\u001b[0m\u001b[1;33m.\u001b[0m\u001b[0mget_loc\u001b[0m\u001b[1;33m(\u001b[0m\u001b[0mkey\u001b[0m\u001b[1;33m)\u001b[0m\u001b[1;33m\u001b[0m\u001b[1;33m\u001b[0m\u001b[0m\n\u001b[0;32m   2647\u001b[0m             \u001b[1;32mexcept\u001b[0m \u001b[0mKeyError\u001b[0m\u001b[1;33m:\u001b[0m\u001b[1;33m\u001b[0m\u001b[1;33m\u001b[0m\u001b[0m\n\u001b[1;32m-> 2648\u001b[1;33m                 \u001b[1;32mreturn\u001b[0m \u001b[0mself\u001b[0m\u001b[1;33m.\u001b[0m\u001b[0m_engine\u001b[0m\u001b[1;33m.\u001b[0m\u001b[0mget_loc\u001b[0m\u001b[1;33m(\u001b[0m\u001b[0mself\u001b[0m\u001b[1;33m.\u001b[0m\u001b[0m_maybe_cast_indexer\u001b[0m\u001b[1;33m(\u001b[0m\u001b[0mkey\u001b[0m\u001b[1;33m)\u001b[0m\u001b[1;33m)\u001b[0m\u001b[1;33m\u001b[0m\u001b[1;33m\u001b[0m\u001b[0m\n\u001b[0m\u001b[0;32m   2649\u001b[0m         \u001b[0mindexer\u001b[0m \u001b[1;33m=\u001b[0m \u001b[0mself\u001b[0m\u001b[1;33m.\u001b[0m\u001b[0mget_indexer\u001b[0m\u001b[1;33m(\u001b[0m\u001b[1;33m[\u001b[0m\u001b[0mkey\u001b[0m\u001b[1;33m]\u001b[0m\u001b[1;33m,\u001b[0m \u001b[0mmethod\u001b[0m\u001b[1;33m=\u001b[0m\u001b[0mmethod\u001b[0m\u001b[1;33m,\u001b[0m \u001b[0mtolerance\u001b[0m\u001b[1;33m=\u001b[0m\u001b[0mtolerance\u001b[0m\u001b[1;33m)\u001b[0m\u001b[1;33m\u001b[0m\u001b[1;33m\u001b[0m\u001b[0m\n\u001b[0;32m   2650\u001b[0m         \u001b[1;32mif\u001b[0m \u001b[0mindexer\u001b[0m\u001b[1;33m.\u001b[0m\u001b[0mndim\u001b[0m \u001b[1;33m>\u001b[0m \u001b[1;36m1\u001b[0m \u001b[1;32mor\u001b[0m \u001b[0mindexer\u001b[0m\u001b[1;33m.\u001b[0m\u001b[0msize\u001b[0m \u001b[1;33m>\u001b[0m \u001b[1;36m1\u001b[0m\u001b[1;33m:\u001b[0m\u001b[1;33m\u001b[0m\u001b[1;33m\u001b[0m\u001b[0m\n",
      "\u001b[1;32mpandas\\_libs\\index.pyx\u001b[0m in \u001b[0;36mpandas._libs.index.IndexEngine.get_loc\u001b[1;34m()\u001b[0m\n",
      "\u001b[1;32mpandas\\_libs\\index.pyx\u001b[0m in \u001b[0;36mpandas._libs.index.IndexEngine.get_loc\u001b[1;34m()\u001b[0m\n",
      "\u001b[1;32mpandas\\_libs\\hashtable_class_helper.pxi\u001b[0m in \u001b[0;36mpandas._libs.hashtable.PyObjectHashTable.get_item\u001b[1;34m()\u001b[0m\n",
      "\u001b[1;32mpandas\\_libs\\hashtable_class_helper.pxi\u001b[0m in \u001b[0;36mpandas._libs.hashtable.PyObjectHashTable.get_item\u001b[1;34m()\u001b[0m\n",
      "\u001b[1;31mKeyError\u001b[0m: 'Date'"
     ]
    }
   ],
   "source": [
    "plt.plot(tata_motors['Date'],tata_motors['Close'].rolling(365).mean())"
   ]
  },
  {
   "cell_type": "code",
   "execution_count": 38,
   "metadata": {},
   "outputs": [
    {
     "ename": "KeyError",
     "evalue": "'Date'",
     "output_type": "error",
     "traceback": [
      "\u001b[1;31m---------------------------------------------------------------------------\u001b[0m",
      "\u001b[1;31mKeyError\u001b[0m                                  Traceback (most recent call last)",
      "\u001b[1;32m~\\anaconda3\\lib\\site-packages\\pandas\\core\\indexes\\base.py\u001b[0m in \u001b[0;36mget_loc\u001b[1;34m(self, key, method, tolerance)\u001b[0m\n\u001b[0;32m   2645\u001b[0m             \u001b[1;32mtry\u001b[0m\u001b[1;33m:\u001b[0m\u001b[1;33m\u001b[0m\u001b[1;33m\u001b[0m\u001b[0m\n\u001b[1;32m-> 2646\u001b[1;33m                 \u001b[1;32mreturn\u001b[0m \u001b[0mself\u001b[0m\u001b[1;33m.\u001b[0m\u001b[0m_engine\u001b[0m\u001b[1;33m.\u001b[0m\u001b[0mget_loc\u001b[0m\u001b[1;33m(\u001b[0m\u001b[0mkey\u001b[0m\u001b[1;33m)\u001b[0m\u001b[1;33m\u001b[0m\u001b[1;33m\u001b[0m\u001b[0m\n\u001b[0m\u001b[0;32m   2647\u001b[0m             \u001b[1;32mexcept\u001b[0m \u001b[0mKeyError\u001b[0m\u001b[1;33m:\u001b[0m\u001b[1;33m\u001b[0m\u001b[1;33m\u001b[0m\u001b[0m\n",
      "\u001b[1;32mpandas\\_libs\\index.pyx\u001b[0m in \u001b[0;36mpandas._libs.index.IndexEngine.get_loc\u001b[1;34m()\u001b[0m\n",
      "\u001b[1;32mpandas\\_libs\\index.pyx\u001b[0m in \u001b[0;36mpandas._libs.index.IndexEngine.get_loc\u001b[1;34m()\u001b[0m\n",
      "\u001b[1;32mpandas\\_libs\\hashtable_class_helper.pxi\u001b[0m in \u001b[0;36mpandas._libs.hashtable.PyObjectHashTable.get_item\u001b[1;34m()\u001b[0m\n",
      "\u001b[1;32mpandas\\_libs\\hashtable_class_helper.pxi\u001b[0m in \u001b[0;36mpandas._libs.hashtable.PyObjectHashTable.get_item\u001b[1;34m()\u001b[0m\n",
      "\u001b[1;31mKeyError\u001b[0m: 'Date'",
      "\nDuring handling of the above exception, another exception occurred:\n",
      "\u001b[1;31mKeyError\u001b[0m                                  Traceback (most recent call last)",
      "\u001b[1;32m<ipython-input-38-eb325c71dcc5>\u001b[0m in \u001b[0;36m<module>\u001b[1;34m\u001b[0m\n\u001b[1;32m----> 1\u001b[1;33m \u001b[0mplt\u001b[0m\u001b[1;33m.\u001b[0m\u001b[0mplot\u001b[0m\u001b[1;33m(\u001b[0m\u001b[0mtata_motors\u001b[0m\u001b[1;33m[\u001b[0m\u001b[1;34m'Date'\u001b[0m\u001b[1;33m]\u001b[0m\u001b[1;33m,\u001b[0m\u001b[0mtata_motors\u001b[0m\u001b[1;33m[\u001b[0m\u001b[1;34m'Close'\u001b[0m\u001b[1;33m]\u001b[0m\u001b[1;33m.\u001b[0m\u001b[0mrolling\u001b[0m\u001b[1;33m(\u001b[0m\u001b[1;36m365\u001b[0m\u001b[1;33m)\u001b[0m\u001b[1;33m.\u001b[0m\u001b[0mstd\u001b[0m\u001b[1;33m(\u001b[0m\u001b[1;33m)\u001b[0m\u001b[1;33m)\u001b[0m\u001b[1;33m\u001b[0m\u001b[1;33m\u001b[0m\u001b[0m\n\u001b[0m",
      "\u001b[1;32m~\\anaconda3\\lib\\site-packages\\pandas\\core\\frame.py\u001b[0m in \u001b[0;36m__getitem__\u001b[1;34m(self, key)\u001b[0m\n\u001b[0;32m   2798\u001b[0m             \u001b[1;32mif\u001b[0m \u001b[0mself\u001b[0m\u001b[1;33m.\u001b[0m\u001b[0mcolumns\u001b[0m\u001b[1;33m.\u001b[0m\u001b[0mnlevels\u001b[0m \u001b[1;33m>\u001b[0m \u001b[1;36m1\u001b[0m\u001b[1;33m:\u001b[0m\u001b[1;33m\u001b[0m\u001b[1;33m\u001b[0m\u001b[0m\n\u001b[0;32m   2799\u001b[0m                 \u001b[1;32mreturn\u001b[0m \u001b[0mself\u001b[0m\u001b[1;33m.\u001b[0m\u001b[0m_getitem_multilevel\u001b[0m\u001b[1;33m(\u001b[0m\u001b[0mkey\u001b[0m\u001b[1;33m)\u001b[0m\u001b[1;33m\u001b[0m\u001b[1;33m\u001b[0m\u001b[0m\n\u001b[1;32m-> 2800\u001b[1;33m             \u001b[0mindexer\u001b[0m \u001b[1;33m=\u001b[0m \u001b[0mself\u001b[0m\u001b[1;33m.\u001b[0m\u001b[0mcolumns\u001b[0m\u001b[1;33m.\u001b[0m\u001b[0mget_loc\u001b[0m\u001b[1;33m(\u001b[0m\u001b[0mkey\u001b[0m\u001b[1;33m)\u001b[0m\u001b[1;33m\u001b[0m\u001b[1;33m\u001b[0m\u001b[0m\n\u001b[0m\u001b[0;32m   2801\u001b[0m             \u001b[1;32mif\u001b[0m \u001b[0mis_integer\u001b[0m\u001b[1;33m(\u001b[0m\u001b[0mindexer\u001b[0m\u001b[1;33m)\u001b[0m\u001b[1;33m:\u001b[0m\u001b[1;33m\u001b[0m\u001b[1;33m\u001b[0m\u001b[0m\n\u001b[0;32m   2802\u001b[0m                 \u001b[0mindexer\u001b[0m \u001b[1;33m=\u001b[0m \u001b[1;33m[\u001b[0m\u001b[0mindexer\u001b[0m\u001b[1;33m]\u001b[0m\u001b[1;33m\u001b[0m\u001b[1;33m\u001b[0m\u001b[0m\n",
      "\u001b[1;32m~\\anaconda3\\lib\\site-packages\\pandas\\core\\indexes\\base.py\u001b[0m in \u001b[0;36mget_loc\u001b[1;34m(self, key, method, tolerance)\u001b[0m\n\u001b[0;32m   2646\u001b[0m                 \u001b[1;32mreturn\u001b[0m \u001b[0mself\u001b[0m\u001b[1;33m.\u001b[0m\u001b[0m_engine\u001b[0m\u001b[1;33m.\u001b[0m\u001b[0mget_loc\u001b[0m\u001b[1;33m(\u001b[0m\u001b[0mkey\u001b[0m\u001b[1;33m)\u001b[0m\u001b[1;33m\u001b[0m\u001b[1;33m\u001b[0m\u001b[0m\n\u001b[0;32m   2647\u001b[0m             \u001b[1;32mexcept\u001b[0m \u001b[0mKeyError\u001b[0m\u001b[1;33m:\u001b[0m\u001b[1;33m\u001b[0m\u001b[1;33m\u001b[0m\u001b[0m\n\u001b[1;32m-> 2648\u001b[1;33m                 \u001b[1;32mreturn\u001b[0m \u001b[0mself\u001b[0m\u001b[1;33m.\u001b[0m\u001b[0m_engine\u001b[0m\u001b[1;33m.\u001b[0m\u001b[0mget_loc\u001b[0m\u001b[1;33m(\u001b[0m\u001b[0mself\u001b[0m\u001b[1;33m.\u001b[0m\u001b[0m_maybe_cast_indexer\u001b[0m\u001b[1;33m(\u001b[0m\u001b[0mkey\u001b[0m\u001b[1;33m)\u001b[0m\u001b[1;33m)\u001b[0m\u001b[1;33m\u001b[0m\u001b[1;33m\u001b[0m\u001b[0m\n\u001b[0m\u001b[0;32m   2649\u001b[0m         \u001b[0mindexer\u001b[0m \u001b[1;33m=\u001b[0m \u001b[0mself\u001b[0m\u001b[1;33m.\u001b[0m\u001b[0mget_indexer\u001b[0m\u001b[1;33m(\u001b[0m\u001b[1;33m[\u001b[0m\u001b[0mkey\u001b[0m\u001b[1;33m]\u001b[0m\u001b[1;33m,\u001b[0m \u001b[0mmethod\u001b[0m\u001b[1;33m=\u001b[0m\u001b[0mmethod\u001b[0m\u001b[1;33m,\u001b[0m \u001b[0mtolerance\u001b[0m\u001b[1;33m=\u001b[0m\u001b[0mtolerance\u001b[0m\u001b[1;33m)\u001b[0m\u001b[1;33m\u001b[0m\u001b[1;33m\u001b[0m\u001b[0m\n\u001b[0;32m   2650\u001b[0m         \u001b[1;32mif\u001b[0m \u001b[0mindexer\u001b[0m\u001b[1;33m.\u001b[0m\u001b[0mndim\u001b[0m \u001b[1;33m>\u001b[0m \u001b[1;36m1\u001b[0m \u001b[1;32mor\u001b[0m \u001b[0mindexer\u001b[0m\u001b[1;33m.\u001b[0m\u001b[0msize\u001b[0m \u001b[1;33m>\u001b[0m \u001b[1;36m1\u001b[0m\u001b[1;33m:\u001b[0m\u001b[1;33m\u001b[0m\u001b[1;33m\u001b[0m\u001b[0m\n",
      "\u001b[1;32mpandas\\_libs\\index.pyx\u001b[0m in \u001b[0;36mpandas._libs.index.IndexEngine.get_loc\u001b[1;34m()\u001b[0m\n",
      "\u001b[1;32mpandas\\_libs\\index.pyx\u001b[0m in \u001b[0;36mpandas._libs.index.IndexEngine.get_loc\u001b[1;34m()\u001b[0m\n",
      "\u001b[1;32mpandas\\_libs\\hashtable_class_helper.pxi\u001b[0m in \u001b[0;36mpandas._libs.hashtable.PyObjectHashTable.get_item\u001b[1;34m()\u001b[0m\n",
      "\u001b[1;32mpandas\\_libs\\hashtable_class_helper.pxi\u001b[0m in \u001b[0;36mpandas._libs.hashtable.PyObjectHashTable.get_item\u001b[1;34m()\u001b[0m\n",
      "\u001b[1;31mKeyError\u001b[0m: 'Date'"
     ]
    }
   ],
   "source": [
    "plt.plot(tata_motors['Date'],tata_motors['Close'].rolling(365).std())"
   ]
  },
  {
   "cell_type": "code",
   "execution_count": 39,
   "metadata": {},
   "outputs": [
    {
     "ename": "KeyError",
     "evalue": "'Date'",
     "output_type": "error",
     "traceback": [
      "\u001b[1;31m---------------------------------------------------------------------------\u001b[0m",
      "\u001b[1;31mKeyError\u001b[0m                                  Traceback (most recent call last)",
      "\u001b[1;32m~\\anaconda3\\lib\\site-packages\\pandas\\core\\indexes\\base.py\u001b[0m in \u001b[0;36mget_loc\u001b[1;34m(self, key, method, tolerance)\u001b[0m\n\u001b[0;32m   2645\u001b[0m             \u001b[1;32mtry\u001b[0m\u001b[1;33m:\u001b[0m\u001b[1;33m\u001b[0m\u001b[1;33m\u001b[0m\u001b[0m\n\u001b[1;32m-> 2646\u001b[1;33m                 \u001b[1;32mreturn\u001b[0m \u001b[0mself\u001b[0m\u001b[1;33m.\u001b[0m\u001b[0m_engine\u001b[0m\u001b[1;33m.\u001b[0m\u001b[0mget_loc\u001b[0m\u001b[1;33m(\u001b[0m\u001b[0mkey\u001b[0m\u001b[1;33m)\u001b[0m\u001b[1;33m\u001b[0m\u001b[1;33m\u001b[0m\u001b[0m\n\u001b[0m\u001b[0;32m   2647\u001b[0m             \u001b[1;32mexcept\u001b[0m \u001b[0mKeyError\u001b[0m\u001b[1;33m:\u001b[0m\u001b[1;33m\u001b[0m\u001b[1;33m\u001b[0m\u001b[0m\n",
      "\u001b[1;32mpandas\\_libs\\index.pyx\u001b[0m in \u001b[0;36mpandas._libs.index.IndexEngine.get_loc\u001b[1;34m()\u001b[0m\n",
      "\u001b[1;32mpandas\\_libs\\index.pyx\u001b[0m in \u001b[0;36mpandas._libs.index.IndexEngine.get_loc\u001b[1;34m()\u001b[0m\n",
      "\u001b[1;32mpandas\\_libs\\hashtable_class_helper.pxi\u001b[0m in \u001b[0;36mpandas._libs.hashtable.PyObjectHashTable.get_item\u001b[1;34m()\u001b[0m\n",
      "\u001b[1;32mpandas\\_libs\\hashtable_class_helper.pxi\u001b[0m in \u001b[0;36mpandas._libs.hashtable.PyObjectHashTable.get_item\u001b[1;34m()\u001b[0m\n",
      "\u001b[1;31mKeyError\u001b[0m: 'Date'",
      "\nDuring handling of the above exception, another exception occurred:\n",
      "\u001b[1;31mKeyError\u001b[0m                                  Traceback (most recent call last)",
      "\u001b[1;32m<ipython-input-39-fd89231d58a7>\u001b[0m in \u001b[0;36m<module>\u001b[1;34m\u001b[0m\n\u001b[1;32m----> 1\u001b[1;33m \u001b[0madfuller\u001b[0m\u001b[1;33m(\u001b[0m\u001b[0mtata_motors\u001b[0m\u001b[1;33m[\u001b[0m\u001b[1;34m'Date'\u001b[0m\u001b[1;33m]\u001b[0m\u001b[1;33m,\u001b[0m\u001b[0mautolag\u001b[0m\u001b[1;33m=\u001b[0m\u001b[1;34m'AIC'\u001b[0m\u001b[1;33m)\u001b[0m\u001b[1;33m\u001b[0m\u001b[1;33m\u001b[0m\u001b[0m\n\u001b[0m",
      "\u001b[1;32m~\\anaconda3\\lib\\site-packages\\pandas\\core\\frame.py\u001b[0m in \u001b[0;36m__getitem__\u001b[1;34m(self, key)\u001b[0m\n\u001b[0;32m   2798\u001b[0m             \u001b[1;32mif\u001b[0m \u001b[0mself\u001b[0m\u001b[1;33m.\u001b[0m\u001b[0mcolumns\u001b[0m\u001b[1;33m.\u001b[0m\u001b[0mnlevels\u001b[0m \u001b[1;33m>\u001b[0m \u001b[1;36m1\u001b[0m\u001b[1;33m:\u001b[0m\u001b[1;33m\u001b[0m\u001b[1;33m\u001b[0m\u001b[0m\n\u001b[0;32m   2799\u001b[0m                 \u001b[1;32mreturn\u001b[0m \u001b[0mself\u001b[0m\u001b[1;33m.\u001b[0m\u001b[0m_getitem_multilevel\u001b[0m\u001b[1;33m(\u001b[0m\u001b[0mkey\u001b[0m\u001b[1;33m)\u001b[0m\u001b[1;33m\u001b[0m\u001b[1;33m\u001b[0m\u001b[0m\n\u001b[1;32m-> 2800\u001b[1;33m             \u001b[0mindexer\u001b[0m \u001b[1;33m=\u001b[0m \u001b[0mself\u001b[0m\u001b[1;33m.\u001b[0m\u001b[0mcolumns\u001b[0m\u001b[1;33m.\u001b[0m\u001b[0mget_loc\u001b[0m\u001b[1;33m(\u001b[0m\u001b[0mkey\u001b[0m\u001b[1;33m)\u001b[0m\u001b[1;33m\u001b[0m\u001b[1;33m\u001b[0m\u001b[0m\n\u001b[0m\u001b[0;32m   2801\u001b[0m             \u001b[1;32mif\u001b[0m \u001b[0mis_integer\u001b[0m\u001b[1;33m(\u001b[0m\u001b[0mindexer\u001b[0m\u001b[1;33m)\u001b[0m\u001b[1;33m:\u001b[0m\u001b[1;33m\u001b[0m\u001b[1;33m\u001b[0m\u001b[0m\n\u001b[0;32m   2802\u001b[0m                 \u001b[0mindexer\u001b[0m \u001b[1;33m=\u001b[0m \u001b[1;33m[\u001b[0m\u001b[0mindexer\u001b[0m\u001b[1;33m]\u001b[0m\u001b[1;33m\u001b[0m\u001b[1;33m\u001b[0m\u001b[0m\n",
      "\u001b[1;32m~\\anaconda3\\lib\\site-packages\\pandas\\core\\indexes\\base.py\u001b[0m in \u001b[0;36mget_loc\u001b[1;34m(self, key, method, tolerance)\u001b[0m\n\u001b[0;32m   2646\u001b[0m                 \u001b[1;32mreturn\u001b[0m \u001b[0mself\u001b[0m\u001b[1;33m.\u001b[0m\u001b[0m_engine\u001b[0m\u001b[1;33m.\u001b[0m\u001b[0mget_loc\u001b[0m\u001b[1;33m(\u001b[0m\u001b[0mkey\u001b[0m\u001b[1;33m)\u001b[0m\u001b[1;33m\u001b[0m\u001b[1;33m\u001b[0m\u001b[0m\n\u001b[0;32m   2647\u001b[0m             \u001b[1;32mexcept\u001b[0m \u001b[0mKeyError\u001b[0m\u001b[1;33m:\u001b[0m\u001b[1;33m\u001b[0m\u001b[1;33m\u001b[0m\u001b[0m\n\u001b[1;32m-> 2648\u001b[1;33m                 \u001b[1;32mreturn\u001b[0m \u001b[0mself\u001b[0m\u001b[1;33m.\u001b[0m\u001b[0m_engine\u001b[0m\u001b[1;33m.\u001b[0m\u001b[0mget_loc\u001b[0m\u001b[1;33m(\u001b[0m\u001b[0mself\u001b[0m\u001b[1;33m.\u001b[0m\u001b[0m_maybe_cast_indexer\u001b[0m\u001b[1;33m(\u001b[0m\u001b[0mkey\u001b[0m\u001b[1;33m)\u001b[0m\u001b[1;33m)\u001b[0m\u001b[1;33m\u001b[0m\u001b[1;33m\u001b[0m\u001b[0m\n\u001b[0m\u001b[0;32m   2649\u001b[0m         \u001b[0mindexer\u001b[0m \u001b[1;33m=\u001b[0m \u001b[0mself\u001b[0m\u001b[1;33m.\u001b[0m\u001b[0mget_indexer\u001b[0m\u001b[1;33m(\u001b[0m\u001b[1;33m[\u001b[0m\u001b[0mkey\u001b[0m\u001b[1;33m]\u001b[0m\u001b[1;33m,\u001b[0m \u001b[0mmethod\u001b[0m\u001b[1;33m=\u001b[0m\u001b[0mmethod\u001b[0m\u001b[1;33m,\u001b[0m \u001b[0mtolerance\u001b[0m\u001b[1;33m=\u001b[0m\u001b[0mtolerance\u001b[0m\u001b[1;33m)\u001b[0m\u001b[1;33m\u001b[0m\u001b[1;33m\u001b[0m\u001b[0m\n\u001b[0;32m   2650\u001b[0m         \u001b[1;32mif\u001b[0m \u001b[0mindexer\u001b[0m\u001b[1;33m.\u001b[0m\u001b[0mndim\u001b[0m \u001b[1;33m>\u001b[0m \u001b[1;36m1\u001b[0m \u001b[1;32mor\u001b[0m \u001b[0mindexer\u001b[0m\u001b[1;33m.\u001b[0m\u001b[0msize\u001b[0m \u001b[1;33m>\u001b[0m \u001b[1;36m1\u001b[0m\u001b[1;33m:\u001b[0m\u001b[1;33m\u001b[0m\u001b[1;33m\u001b[0m\u001b[0m\n",
      "\u001b[1;32mpandas\\_libs\\index.pyx\u001b[0m in \u001b[0;36mpandas._libs.index.IndexEngine.get_loc\u001b[1;34m()\u001b[0m\n",
      "\u001b[1;32mpandas\\_libs\\index.pyx\u001b[0m in \u001b[0;36mpandas._libs.index.IndexEngine.get_loc\u001b[1;34m()\u001b[0m\n",
      "\u001b[1;32mpandas\\_libs\\hashtable_class_helper.pxi\u001b[0m in \u001b[0;36mpandas._libs.hashtable.PyObjectHashTable.get_item\u001b[1;34m()\u001b[0m\n",
      "\u001b[1;32mpandas\\_libs\\hashtable_class_helper.pxi\u001b[0m in \u001b[0;36mpandas._libs.hashtable.PyObjectHashTable.get_item\u001b[1;34m()\u001b[0m\n",
      "\u001b[1;31mKeyError\u001b[0m: 'Date'"
     ]
    }
   ],
   "source": [
    "adfuller(tata_motors['Date'],autolag='AIC')"
   ]
  },
  {
   "cell_type": "code",
   "execution_count": 47,
   "metadata": {},
   "outputs": [
    {
     "ename": "NameError",
     "evalue": "name 'timeseries' is not defined",
     "output_type": "error",
     "traceback": [
      "\u001b[1;31m---------------------------------------------------------------------------\u001b[0m",
      "\u001b[1;31mNameError\u001b[0m                                 Traceback (most recent call last)",
      "Input \u001b[1;32mIn [47]\u001b[0m, in \u001b[0;36m<cell line: 1>\u001b[1;34m()\u001b[0m\n\u001b[1;32m----> 1\u001b[0m rolmean\u001b[38;5;241m=\u001b[39m\u001b[43mtimeseries\u001b[49m\u001b[38;5;241m.\u001b[39mrolling(\u001b[38;5;241m12\u001b[39m)\u001b[38;5;241m.\u001b[39mmean()\u001b[38;5;66;03m#rollingmean\u001b[39;00m\n\u001b[0;32m      2\u001b[0m rolstd\u001b[38;5;241m=\u001b[39mtimeseries\u001b[38;5;241m.\u001b[39mrolling(\u001b[38;5;241m12\u001b[39m)\u001b[38;5;241m.\u001b[39mstd()\n",
      "\u001b[1;31mNameError\u001b[0m: name 'timeseries' is not defined"
     ]
    }
   ],
   "source": [
    "rolmean=timeseries.rolling(12).mean()#rollingmean\n",
    "rolstd=timeseries.rolling(12).std()#rollingstandard\tdeviation"
   ]
  },
  {
   "cell_type": "code",
   "execution_count": 40,
   "metadata": {},
   "outputs": [],
   "source": [
    "#Test for staionarity \n",
    "def test_stationarity(timeseries):\n",
    "    # Determing rolling statistics\n",
    "    rolmean=timeseries.rolling(12).mean() # rolling mean\n",
    "    rolstd=timeseries.rolling(12).std() # rolling standard deviation\n",
    "    # Plot rolling statistics:\n",
    "    plt.figure(figsize=(18,8))\n",
    "    plt.grid('both')\n",
    "    plt.plot(timeseries,color='blue',label='Original',linewidth=3)\n",
    "    plt.plot(rolmean,color='red',label='Rolling Mean',linewidth=3)\n",
    "    plt.plot(rolstd,color='black',label='Rolling Std',linewidth=4)\n",
    "    plt.legend(loc='best',fontsize=20,shadow=True,facecolor='lightpink',edgecolor='k')\n",
    "    plt.title('Rolling Mean and Standard Deviation',fontsize=25)\n",
    "    plt.xticks(fontsize=15)\n",
    "    plt.yticks(fontsize=15)\n",
    "    plt.show(block=False)\n",
    "    print(\"Results of dickey fuller test\")\n",
    "    adft=adfuller(timeseries,autolag='AIC')\n",
    "    # output for dft will give us without defining what the values are.\n",
    "    # hence we manually write what values does it explains using a for loop\n",
    "    output = pd.Series(adft[0:4],index=['Test Statistics','p-value','No. of lags used','Number of observations used'])\n",
    "    for key,values in adft[4].items():\n",
    "        output['critical value (%s)'%key] = values \n",
    "    print(output)"
   ]
  },
  {
   "cell_type": "code",
   "execution_count": 41,
   "metadata": {},
   "outputs": [
    {
     "data": {
      "image/png": "[encoded data removed]",
      "text/plain": [
       "<Figure size 1296x576 with 1 Axes>"
      ]
     },
     "metadata": {},
     "output_type": "display_data"
    },
    {
     "name": "stdout",
     "output_type": "stream",
     "text": [
      "Results of dickey fuller test\n",
      "Test Statistics                 -0.875760\n",
      "p-value                          0.795850\n",
      "No. of lags used                 4.000000\n",
      "Number of observations used    999.000000\n",
      "critical value (1%)             -3.436913\n",
      "critical value (5%)             -2.864437\n",
      "critical value (10%)            -2.568313\n",
      "dtype: float64\n"
     ]
    }
   ],
   "source": [
    "test_stationarity(tata_motors['Close'])"
   ]
  },
  {
   "cell_type": "code",
   "execution_count": 42,
   "metadata": {},
   "outputs": [
    {
     "data": {
      "text/plain": [
       "Date\n",
       "2019-01-01    173.449997\n",
       "2019-01-02    168.550003\n",
       "2019-01-03    166.050003\n",
       "2019-01-04    170.949997\n",
       "2019-01-07    175.350006\n",
       "                 ...    \n",
       "2023-01-13    411.500000\n",
       "2023-01-16    413.000000\n",
       "2023-01-17    415.299988\n",
       "2023-01-18    408.399994\n",
       "2023-01-19    400.750000\n",
       "Name: Close, Length: 1004, dtype: float64"
      ]
     },
     "execution_count": 42,
     "metadata": {},
     "output_type": "execute_result"
    }
   ],
   "source": [
    "df_close"
   ]
  },
  {
   "cell_type": "code",
   "execution_count": 43,
   "metadata": {},
   "outputs": [
    {
     "data": {
      "text/plain": [
       "Date\n",
       "2019-01-01         NaN\n",
       "2019-01-02   -4.899994\n",
       "2019-01-03   -2.500000\n",
       "2019-01-04    4.899994\n",
       "2019-01-07    4.400009\n",
       "                ...   \n",
       "2023-01-13   -0.750000\n",
       "2023-01-16    1.500000\n",
       "2023-01-17    2.299988\n",
       "2023-01-18   -6.899994\n",
       "2023-01-19   -7.649994\n",
       "Name: Close, Length: 1004, dtype: float64"
      ]
     },
     "execution_count": 43,
     "metadata": {},
     "output_type": "execute_result"
    }
   ],
   "source": [
    "df_close.diff()"
   ]
  },
  {
   "cell_type": "code",
   "execution_count": 44,
   "metadata": {},
   "outputs": [],
   "source": [
    "tata_close_diff_1=df_close.diff()"
   ]
  },
  {
   "cell_type": "code",
   "execution_count": 45,
   "metadata": {},
   "outputs": [
    {
     "data": {
      "text/plain": [
       "Date\n",
       "2019-01-01         NaN\n",
       "2019-01-02   -4.899994\n",
       "2019-01-03   -2.500000\n",
       "2019-01-04    4.899994\n",
       "2019-01-07    4.400009\n",
       "                ...   \n",
       "2023-01-13   -0.750000\n",
       "2023-01-16    1.500000\n",
       "2023-01-17    2.299988\n",
       "2023-01-18   -6.899994\n",
       "2023-01-19   -7.649994\n",
       "Name: Close, Length: 1004, dtype: float64"
      ]
     },
     "execution_count": 45,
     "metadata": {},
     "output_type": "execute_result"
    }
   ],
   "source": [
    "tata_close_diff_1"
   ]
  },
  {
   "cell_type": "code",
   "execution_count": 46,
   "metadata": {},
   "outputs": [],
   "source": [
    "tata_close_diff_1.dropna(inplace=True)"
   ]
  },
  {
   "cell_type": "code",
   "execution_count": 47,
   "metadata": {},
   "outputs": [
    {
     "data": {
      "image/png": "[encoded data removed]",
      "text/plain": [
       "<Figure size 1296x576 with 1 Axes>"
      ]
     },
     "metadata": {},
     "output_type": "display_data"
    },
    {
     "name": "stdout",
     "output_type": "stream",
     "text": [
      "Results of dickey fuller test\n",
      "Test Statistics               -1.535875e+01\n",
      "p-value                        3.636669e-28\n",
      "No. of lags used               3.000000e+00\n",
      "Number of observations used    9.990000e+02\n",
      "critical value (1%)           -3.436913e+00\n",
      "critical value (5%)           -2.864437e+00\n",
      "critical value (10%)          -2.568313e+00\n",
      "dtype: float64\n"
     ]
    }
   ],
   "source": [
    "test_stationarity(tata_close_diff_1)"
   ]
  },
  {
   "cell_type": "code",
   "execution_count": 48,
   "metadata": {},
   "outputs": [],
   "source": [
    "train_data=df_close[0:-60]"
   ]
  },
  {
   "cell_type": "code",
   "execution_count": 49,
   "metadata": {},
   "outputs": [],
   "source": [
    "test_data=df_close[-60:]"
   ]
  },
  {
   "cell_type": "code",
   "execution_count": 50,
   "metadata": {},
   "outputs": [
    {
     "data": {
      "text/plain": [
       "<matplotlib.legend.Legend at 0x116f7823e50>"
      ]
     },
     "execution_count": 50,
     "metadata": {},
     "output_type": "execute_result"
    },
    {
     "data": {
      "image/png": "[encoded data removed]",
      "text/plain": [
       "<Figure size 1296x576 with 1 Axes>"
      ]
     },
     "metadata": {},
     "output_type": "display_data"
    }
   ],
   "source": [
    "train_data=df_close[0:-60]\n",
    "test_data=df_close[-60:]\n",
    "plt.figure(figsize=(18,8))\n",
    "plt.grid(True)\n",
    "plt.xlabel('Dates',\tfontsize\t=\t20)\n",
    "plt.ylabel('Closing Prices',\tfontsize\t=\t20)\n",
    "plt.xticks(fontsize\t=\t15)\n",
    "plt.xticks(fontsize\t=\t15)\n",
    "plt.plot(train_data,\t'green',\tlabel='Train data',\tlinewidth\t=\t5) \n",
    "plt.plot(test_data,\t'blue',\tlabel='Test data',\tlinewidth\t=\t5) \n",
    "plt.legend(fontsize\t=\t20,\tshadow=True,facecolor='lightpink',edgecolor\t=\t'k')"
   ]
  },
  {
   "cell_type": "code",
   "execution_count": 51,
   "metadata": {},
   "outputs": [],
   "source": [
    "var1=tata_close_diff_1"
   ]
  },
  {
   "cell_type": "code",
   "execution_count": 52,
   "metadata": {},
   "outputs": [],
   "source": [
    "var=tata_close_diff_1[1:]\n",
    "\n"
   ]
  },
  {
   "cell_type": "code",
   "execution_count": 53,
   "metadata": {},
   "outputs": [],
   "source": [
    "df=pd.DataFrame([var,var1])\n"
   ]
  },
  {
   "cell_type": "code",
   "execution_count": 54,
   "metadata": {},
   "outputs": [
    {
     "data": {
      "text/plain": [
       "<bound method DataFrame.corr of                Close     Close\n",
       "Date                          \n",
       "2019-01-02       NaN -4.899994\n",
       "2019-01-03 -2.500000 -2.500000\n",
       "2019-01-04  4.899994  4.899994\n",
       "2019-01-07  4.400009  4.400009\n",
       "2019-01-08  4.599991  4.599991\n",
       "...              ...       ...\n",
       "2023-01-13 -0.750000 -0.750000\n",
       "2023-01-16  1.500000  1.500000\n",
       "2023-01-17  2.299988  2.299988\n",
       "2023-01-18 -6.899994 -6.899994\n",
       "2023-01-19 -7.649994 -7.649994\n",
       "\n",
       "[1003 rows x 2 columns]>"
      ]
     },
     "execution_count": 54,
     "metadata": {},
     "output_type": "execute_result"
    }
   ],
   "source": [
    "df.T.corr"
   ]
  },
  {
   "cell_type": "code",
   "execution_count": 55,
   "metadata": {},
   "outputs": [
    {
     "data": {
      "image/png": "[encoded data removed]",
      "text/plain": [
       "<Figure size 864x864 with 2 Axes>"
      ]
     },
     "metadata": {},
     "output_type": "display_data"
    }
   ],
   "source": [
    "fig\t=\tplt.figure(figsize=(12,12))\n",
    "ax1\t=\tfig.add_subplot(211)#function\n",
    "fig\t=\tplot_acf(tata_close_diff_1,\tax=ax1) \n",
    "ax2\t=\tfig.add_subplot(212) \n",
    "fig\t=\tplot_pacf(tata_close_diff_1,\tax=ax2)"
   ]
  },
  {
   "cell_type": "code",
   "execution_count": 45,
   "metadata": {},
   "outputs": [],
   "source": [
    "def\tevaluate_arima_model(X,y,arima_order):\n",
    "    history=[x for x in X]\n",
    "    predictions=list()  \n",
    "    for t in range(len(y)):\n",
    "        model=ARIMA(history,order=arima_order)\n",
    "        model_fit=model.fit()\n",
    "        yhat=model_fit.forecast()[0]\n",
    "        predictions.append(yhat)\n",
    "        history.append(y[t])\n",
    "    rmse=np.sqrt(mean_squared_error(y,predictions))\n",
    "    return rmse\n",
    "   "
   ]
  },
  {
   "cell_type": "code",
   "execution_count": 46,
   "metadata": {},
   "outputs": [
    {
     "data": {
      "text/plain": [
       "inf"
      ]
     },
     "execution_count": 46,
     "metadata": {},
     "output_type": "execute_result"
    }
   ],
   "source": [
    "float(\"inf\")"
   ]
  },
  {
   "cell_type": "code",
   "execution_count": 78,
   "metadata": {},
   "outputs": [],
   "source": [
    "def evaluate_models(dataset,test,p_values,d_values,q_values):\n",
    "    dataset=dataset.astype('float32')\n",
    "    best_score,best_cfg=float('inf'),None\n",
    "    for p in p_values:\n",
    "        for d in d_values:\n",
    "            for q in q_values:\n",
    "                order = (p,d,q)\n",
    "                try:\n",
    "                    rmse=evaluate_arima_model(dataset,test,order)\n",
    "                    if rmse < best_score:\n",
    "                        best_cfg,best_score=rmse,order\n",
    "                    print('ARIMA%s RMSE=%.3f' % (order,rmse))\n",
    "                except:\n",
    "                    continue\n",
    "    print('Best ARIMA%s RMSE=%.3f' % (best_cfg, best_score))\n",
    "    \n",
    "    "
   ]
  },
  {
   "cell_type": "code",
   "execution_count": 61,
   "metadata": {},
   "outputs": [
    {
     "ename": "TypeError",
     "evalue": "evaluate_models() missing 4 required positional arguments: 'test', 'p_values', 'd_values', and 'q_values'",
     "output_type": "error",
     "traceback": [
      "\u001b[1;31m---------------------------------------------------------------------------\u001b[0m",
      "\u001b[1;31mTypeError\u001b[0m                                 Traceback (most recent call last)",
      "Input \u001b[1;32mIn [61]\u001b[0m, in \u001b[0;36m<cell line: 1>\u001b[1;34m()\u001b[0m\n\u001b[1;32m----> 1\u001b[0m \u001b[43mevaluate_models\u001b[49m\u001b[43m(\u001b[49m\u001b[43mtata_motors\u001b[49m\u001b[43m[\u001b[49m\u001b[38;5;124;43m'\u001b[39;49m\u001b[38;5;124;43mClose\u001b[39;49m\u001b[38;5;124;43m'\u001b[39;49m\u001b[43m]\u001b[49m\u001b[43m)\u001b[49m\n",
      "\u001b[1;31mTypeError\u001b[0m: evaluate_models() missing 4 required positional arguments: 'test', 'p_values', 'd_values', and 'q_values'"
     ]
    }
   ],
   "source": []
  },
  {
   "cell_type": "code",
   "execution_count": 64,
   "metadata": {},
   "outputs": [],
   "source": [
    "p_values=range(0,3)"
   ]
  },
  {
   "cell_type": "code",
   "execution_count": 65,
   "metadata": {},
   "outputs": [
    {
     "data": {
      "text/plain": [
       "[0, 1, 2]"
      ]
     },
     "execution_count": 65,
     "metadata": {},
     "output_type": "execute_result"
    }
   ],
   "source": [
    "list(p_values)"
   ]
  },
  {
   "cell_type": "code",
   "execution_count": 66,
   "metadata": {},
   "outputs": [
    {
     "data": {
      "text/plain": [
       "Date\n",
       "2019-01-01    173.449997\n",
       "2019-01-02    168.550003\n",
       "2019-01-03    166.050003\n",
       "2019-01-04    170.949997\n",
       "2019-01-07    175.350006\n",
       "                 ...    \n",
       "2022-10-19    399.049988\n",
       "2022-10-20    398.100006\n",
       "2022-10-21    398.049988\n",
       "2022-10-24    401.600006\n",
       "2022-10-25    404.549988\n",
       "Name: Close, Length: 944, dtype: float64"
      ]
     },
     "execution_count": 66,
     "metadata": {},
     "output_type": "execute_result"
    }
   ],
   "source": [
    "train_data"
   ]
  },
  {
   "cell_type": "code",
   "execution_count": 67,
   "metadata": {},
   "outputs": [
    {
     "data": {
      "text/plain": [
       "Date\n",
       "2022-10-27    407.700012\n",
       "2022-10-28    409.899994\n",
       "2022-10-31    412.750000\n",
       "2022-11-01    421.350006\n",
       "2022-11-02    422.149994\n",
       "2022-11-03    416.250000\n",
       "2022-11-04    425.350006\n",
       "2022-11-07    435.000000\n",
       "2022-11-09    433.149994\n",
       "2022-11-10    412.200012\n",
       "2022-11-11    423.500000\n",
       "2022-11-14    433.700012\n",
       "2022-11-15    437.149994\n",
       "2022-11-16    431.549988\n",
       "2022-11-17    423.149994\n",
       "2022-11-18    423.799988\n",
       "2022-11-21    421.100006\n",
       "2022-11-22    424.700012\n",
       "2022-11-23    424.049988\n",
       "2022-11-24    423.399994\n",
       "2022-11-25    433.200012\n",
       "2022-11-28    433.250000\n",
       "2022-11-29    433.149994\n",
       "2022-11-30    439.399994\n",
       "2022-12-01    438.250000\n",
       "2022-12-02    435.399994\n",
       "2022-12-05    428.750000\n",
       "2022-12-06    427.100006\n",
       "2022-12-07    420.100006\n",
       "2022-12-08    417.200012\n",
       "2022-12-09    413.299988\n",
       "2022-12-12    414.149994\n",
       "2022-12-13    418.500000\n",
       "2022-12-14    417.899994\n",
       "2022-12-15    416.700012\n",
       "2022-12-16    421.600006\n",
       "2022-12-19    418.000000\n",
       "2022-12-20    410.500000\n",
       "2022-12-21    402.600006\n",
       "2022-12-22    394.450012\n",
       "2022-12-23    378.350006\n",
       "2022-12-26    384.799988\n",
       "2022-12-27    394.149994\n",
       "2022-12-28    391.299988\n",
       "2022-12-29    385.899994\n",
       "2022-12-30    387.950012\n",
       "2023-01-02    394.799988\n",
       "2023-01-03    393.899994\n",
       "2023-01-04    385.600006\n",
       "2023-01-05    386.899994\n",
       "2023-01-06    382.000000\n",
       "2023-01-09    389.450012\n",
       "2023-01-10    412.899994\n",
       "2023-01-11    418.200012\n",
       "2023-01-12    412.250000\n",
       "2023-01-13    411.500000\n",
       "2023-01-16    413.000000\n",
       "2023-01-17    415.299988\n",
       "2023-01-18    408.399994\n",
       "2023-01-19    400.750000\n",
       "Name: Close, dtype: float64"
      ]
     },
     "execution_count": 67,
     "metadata": {},
     "output_type": "execute_result"
    }
   ],
   "source": [
    "test_data"
   ]
  },
  {
   "cell_type": "code",
   "execution_count": 69,
   "metadata": {},
   "outputs": [
    {
     "name": "stdout",
     "output_type": "stream",
     "text": [
      "Best ARIMANone RMSE=inf\n"
     ]
    }
   ],
   "source": [
    "p_values=range(0,3)\n",
    "d_values=range(0,3) \n",
    "q_values=range(0,3) \n",
    "warnings.filterwarnings(\"ignore\") \n",
    "evaluate_models(train_data,test_data,p_values,d_values,q_values)\n"
   ]
  },
  {
   "cell_type": "code",
   "execution_count": 70,
   "metadata": {},
   "outputs": [],
   "source": [
    "arima_order=(1,0,1)\n"
   ]
  },
  {
   "cell_type": "code",
   "execution_count": 71,
   "metadata": {},
   "outputs": [],
   "source": [
    "history=[x for x in train_data]"
   ]
  },
  {
   "cell_type": "code",
   "execution_count": 72,
   "metadata": {},
   "outputs": [
    {
     "data": {
      "text/plain": [
       "[173.449997,\n",
       " 168.550003,\n",
       " 166.050003,\n",
       " 170.949997,\n",
       " 175.350006,\n",
       " 179.949997,\n",
       " 183.050003,\n",
       " 185.75,\n",
       " 180.300003,\n",
       " 182.399994,\n",
       " 185.350006,\n",
       " 185.449997,\n",
       " 184.899994,\n",
       " 183.300003,\n",
       " 181.5,\n",
       " 180.850006,\n",
       " 180.25,\n",
       " 175.399994,\n",
       " 173.25,\n",
       " 172.300003,\n",
       " 173.600006,\n",
       " 174.600006,\n",
       " 181.199997,\n",
       " 181.649994,\n",
       " 180.25,\n",
       " 175.800003,\n",
       " 178.5,\n",
       " 182.850006,\n",
       " 150.699997,\n",
       " 152.649994,\n",
       " 151.800003,\n",
       " 159.850006,\n",
       " 161.649994,\n",
       " 162.899994,\n",
       " 163.75,\n",
       " 164.800003,\n",
       " 169.699997,\n",
       " 174.300003,\n",
       " 175.75,\n",
       " 182.649994,\n",
       " 177.350006,\n",
       " 177.449997,\n",
       " 180.300003,\n",
       " 194.050003,\n",
       " 188.800003,\n",
       " 189.300003,\n",
       " 181.199997,\n",
       " 181.850006,\n",
       " 184.800003,\n",
       " 181.699997,\n",
       " 179.550003,\n",
       " 180.0,\n",
       " 182.25,\n",
       " 182.850006,\n",
       " 180.199997,\n",
       " 175.399994,\n",
       " 171.300003,\n",
       " 173.100006,\n",
       " 169.850006,\n",
       " 170.550003,\n",
       " 187.350006,\n",
       " 202.949997,\n",
       " 201.350006,\n",
       " 206.149994,\n",
       " 205.149994,\n",
       " 200.550003,\n",
       " 205.899994,\n",
       " 216.050003,\n",
       " 218.199997,\n",
       " 215.949997,\n",
       " 231.75,\n",
       " 230.5,\n",
       " 236.25,\n",
       " 234.850006,\n",
       " 231.649994,\n",
       " 223.600006,\n",
       " 221.850006,\n",
       " 215.600006,\n",
       " 214.300003,\n",
       " 207.300003,\n",
       " 209.449997,\n",
       " 199.800003,\n",
       " 190.949997,\n",
       " 185.100006,\n",
       " 186.350006,\n",
       " 185.899994,\n",
       " 180.75,\n",
       " 184.5,\n",
       " 169.449997,\n",
       " 175.399994,\n",
       " 176.850006,\n",
       " 190.149994,\n",
       " 176.800003,\n",
       " 179.100006,\n",
       " 175.149994,\n",
       " 182.300003,\n",
       " 181.350006,\n",
       " 180.25,\n",
       " 176.350006,\n",
       " 175.149994,\n",
       " 172.600006,\n",
       " 174.5,\n",
       " 173.25,\n",
       " 169.699997,\n",
       " 169.5,\n",
       " 166.199997,\n",
       " 170.75,\n",
       " 169.050003,\n",
       " 167.399994,\n",
       " 164.199997,\n",
       " 158.75,\n",
       " 158.300003,\n",
       " 154.649994,\n",
       " 159.25,\n",
       " 158.899994,\n",
       " 159.300003,\n",
       " 160.449997,\n",
       " 161.100006,\n",
       " 165.850006,\n",
       " 162.550003,\n",
       " 168.0,\n",
       " 163.75,\n",
       " 162.300003,\n",
       " 165.199997,\n",
       " 160.199997,\n",
       " 154.550003,\n",
       " 155.800003,\n",
       " 151.649994,\n",
       " 156.800003,\n",
       " 159.300003,\n",
       " 160.949997,\n",
       " 170.0,\n",
       " 167.899994,\n",
       " 160.75,\n",
       " 154.850006,\n",
       " 156.75,\n",
       " 156.199997,\n",
       " 151.25,\n",
       " 144.300003,\n",
       " 147.149994,\n",
       " 137.550003,\n",
       " 133.449997,\n",
       " 135.600006,\n",
       " 129.550003,\n",
       " 130.699997,\n",
       " 123.75,\n",
       " 122.5,\n",
       " 117.400002,\n",
       " 124.050003,\n",
       " 122.050003,\n",
       " 121.949997,\n",
       " 120.900002,\n",
       " 121.349998,\n",
       " 120.800003,\n",
       " 123.849998,\n",
       " 112.400002,\n",
       " 107.699997,\n",
       " 111.050003,\n",
       " 110.550003,\n",
       " 120.349998,\n",
       " 116.349998,\n",
       " 114.300003,\n",
       " 116.699997,\n",
       " 112.650002,\n",
       " 109.5,\n",
       " 118.050003,\n",
       " 121.25,\n",
       " 121.900002,\n",
       " 134.350006,\n",
       " 127.949997,\n",
       " 129.550003,\n",
       " 128.600006,\n",
       " 122.0,\n",
       " 121.75,\n",
       " 124.199997,\n",
       " 133.25,\n",
       " 127.900002,\n",
       " 130.899994,\n",
       " 123.050003,\n",
       " 124.5,\n",
       " 119.900002,\n",
       " 117.449997,\n",
       " 115.300003,\n",
       " 122.400002,\n",
       " 119.650002,\n",
       " 117.5,\n",
       " 120.900002,\n",
       " 116.800003,\n",
       " 121.300003,\n",
       " 127.849998,\n",
       " 126.949997,\n",
       " 125.849998,\n",
       " 139.5,\n",
       " 136.850006,\n",
       " 131.75,\n",
       " 132.649994,\n",
       " 133.5,\n",
       " 126.849998,\n",
       " 147.699997,\n",
       " 172.449997,\n",
       " 171.899994,\n",
       " 177.699997,\n",
       " 175.050003,\n",
       " 172.199997,\n",
       " 172.0,\n",
       " 174.5,\n",
       " 171.5,\n",
       " 169.050003,\n",
       " 172.0,\n",
       " 170.600006,\n",
       " 167.050003,\n",
       " 168.550003,\n",
       " 170.100006,\n",
       " 167.75,\n",
       " 167.399994,\n",
       " 164.149994,\n",
       " 162.350006,\n",
       " 166.100006,\n",
       " 163.399994,\n",
       " 165.899994,\n",
       " 164.800003,\n",
       " 161.5,\n",
       " 161.050003,\n",
       " 158.199997,\n",
       " 169.399994,\n",
       " 166.100006,\n",
       " 161.5,\n",
       " 160.5,\n",
       " 159.699997,\n",
       " 161.800003,\n",
       " 173.350006,\n",
       " 176.699997,\n",
       " 174.949997,\n",
       " 180.199997,\n",
       " 174.800003,\n",
       " 179.149994,\n",
       " 175.949997,\n",
       " 176.050003,\n",
       " 175.5,\n",
       " 174.600006,\n",
       " 176.149994,\n",
       " 183.699997,\n",
       " 185.149994,\n",
       " 184.449997,\n",
       " 193.75,\n",
       " 191.100006,\n",
       " 185.649994,\n",
       " 184.699997,\n",
       " 182.550003,\n",
       " 192.0,\n",
       " 196.350006,\n",
       " 196.25,\n",
       " 195.850006,\n",
       " 200.350006,\n",
       " 197.550003,\n",
       " 197.300003,\n",
       " 195.0,\n",
       " 191.399994,\n",
       " 185.600006,\n",
       " 188.399994,\n",
       " 186.5,\n",
       " 182.199997,\n",
       " 176.100006,\n",
       " 188.050003,\n",
       " 186.199997,\n",
       " 176.600006,\n",
       " 163.850006,\n",
       " 165.699997,\n",
       " 183.75,\n",
       " 178.850006,\n",
       " 173.600006,\n",
       " 168.899994,\n",
       " 169.75,\n",
       " 170.949997,\n",
       " 169.5,\n",
       " 169.100006,\n",
       " 169.100006,\n",
       " 161.600006,\n",
       " 158.050003,\n",
       " 158.5,\n",
       " 150.649994,\n",
       " 149.899994,\n",
       " 144.550003,\n",
       " 145.25,\n",
       " 128.949997,\n",
       " 125.400002,\n",
       " 130.350006,\n",
       " 126.199997,\n",
       " 125.75,\n",
       " 114.199997,\n",
       " 105.699997,\n",
       " 98.900002,\n",
       " 88.0,\n",
       " 89.75,\n",
       " 82.949997,\n",
       " 77.949997,\n",
       " 75.5,\n",
       " 72.949997,\n",
       " 77.300003,\n",
       " 66.199997,\n",
       " 68.550003,\n",
       " 70.25,\n",
       " 70.800003,\n",
       " 70.699997,\n",
       " 68.150002,\n",
       " 71.050003,\n",
       " 67.949997,\n",
       " 65.300003,\n",
       " 67.25,\n",
       " 67.599998,\n",
       " 74.599998,\n",
       " 74.25,\n",
       " 72.900002,\n",
       " 74.650002,\n",
       " 76.849998,\n",
       " 80.449997,\n",
       " 74.650002,\n",
       " 75.900002,\n",
       " 75.650002,\n",
       " 74.199997,\n",
       " 75.25,\n",
       " 76.949997,\n",
       " 78.150002,\n",
       " 93.25,\n",
       " 83.900002,\n",
       " 80.900002,\n",
       " 83.199997,\n",
       " 82.5,\n",
       " 81.050003,\n",
       " 86.099998,\n",
       " 86.199997,\n",
       " 87.199997,\n",
       " 83.800003,\n",
       " 84.349998,\n",
       " 80.650002,\n",
       " 81.800003,\n",
       " 83.449997,\n",
       " 84.099998,\n",
       " 82.800003,\n",
       " 83.099998,\n",
       " 84.550003,\n",
       " 87.0,\n",
       " 87.0,\n",
       " 89.550003,\n",
       " 96.5,\n",
       " 98.75,\n",
       " 98.5,\n",
       " 110.75,\n",
       " 115.449997,\n",
       " 111.449997,\n",
       " 111.400002,\n",
       " 106.150002,\n",
       " 105.300003,\n",
       " 100.5,\n",
       " 94.75,\n",
       " 95.400002,\n",
       " 96.349998,\n",
       " 102.5,\n",
       " 102.650002,\n",
       " 104.400002,\n",
       " 104.800003,\n",
       " 103.800003,\n",
       " 101.400002,\n",
       " 99.449997,\n",
       " 98.25,\n",
       " 100.75,\n",
       " 101.550003,\n",
       " 103.449997,\n",
       " 109.0,\n",
       " 109.050003,\n",
       " 105.349998,\n",
       " 106.949997,\n",
       " 107.599998,\n",
       " 108.0,\n",
       " 105.150002,\n",
       " 103.199997,\n",
       " 102.949997,\n",
       " 106.400002,\n",
       " 105.050003,\n",
       " 108.449997,\n",
       " 105.150002,\n",
       " 106.050003,\n",
       " 103.75,\n",
       " 101.699997,\n",
       " 106.449997,\n",
       " 105.75,\n",
       " 103.650002,\n",
       " 104.650002,\n",
       " 113.050003,\n",
       " 111.449997,\n",
       " 115.400002,\n",
       " 116.800003,\n",
       " 119.099998,\n",
       " 123.849998,\n",
       " 122.300003,\n",
       " 125.349998,\n",
       " 131.149994,\n",
       " 124.599998,\n",
       " 123.550003,\n",
       " 125.599998,\n",
       " 125.150002,\n",
       " 121.699997,\n",
       " 120.900002,\n",
       " 121.199997,\n",
       " 127.099998,\n",
       " 137.899994,\n",
       " 144.25,\n",
       " 142.800003,\n",
       " 143.199997,\n",
       " 143.800003,\n",
       " 150.300003,\n",
       " 151.850006,\n",
       " 147.800003,\n",
       " 149.399994,\n",
       " 142.300003,\n",
       " 140.100006,\n",
       " 143.300003,\n",
       " 144.300003,\n",
       " 148.550003,\n",
       " 148.399994,\n",
       " 151.449997,\n",
       " 147.649994,\n",
       " 147.899994,\n",
       " 137.449997,\n",
       " 133.100006,\n",
       " 131.399994,\n",
       " 122.800003,\n",
       " 127.25,\n",
       " 132.850006,\n",
       " 131.699997,\n",
       " 133.300003,\n",
       " 133.5,\n",
       " 133.899994,\n",
       " 144.75,\n",
       " 141.0,\n",
       " 140.949997,\n",
       " 138.449997,\n",
       " 135.899994,\n",
       " 134.100006,\n",
       " 130.699997,\n",
       " 126.949997,\n",
       " 127.75,\n",
       " 128.25,\n",
       " 129.649994,\n",
       " 130.25,\n",
       " 133.5,\n",
       " 137.0,\n",
       " 133.699997,\n",
       " 135.649994,\n",
       " 134.800003,\n",
       " 131.899994,\n",
       " 132.649994,\n",
       " 132.850006,\n",
       " 134.100006,\n",
       " 135.899994,\n",
       " 137.649994,\n",
       " 139.0,\n",
       " 141.0,\n",
       " 146.0,\n",
       " 150.949997,\n",
       " 151.199997,\n",
       " 146.350006,\n",
       " 148.850006,\n",
       " 158.0,\n",
       " 173.5,\n",
       " 167.949997,\n",
       " 169.100006,\n",
       " 170.699997,\n",
       " 172.050003,\n",
       " 171.449997,\n",
       " 173.75,\n",
       " 180.350006,\n",
       " 179.75,\n",
       " 183.600006,\n",
       " 184.850006,\n",
       " 184.149994,\n",
       " 183.550003,\n",
       " 181.800003,\n",
       " 182.699997,\n",
       " 177.600006,\n",
       " 178.850006,\n",
       " 177.649994,\n",
       " 178.899994,\n",
       " 182.550003,\n",
       " 181.699997,\n",
       " 180.550003,\n",
       " 164.550003,\n",
       " 164.949997,\n",
       " 169.199997,\n",
       " 175.949997,\n",
       " 186.350006,\n",
       " 183.449997,\n",
       " 184.149994,\n",
       " 183.850006,\n",
       " 186.5,\n",
       " 191.300003,\n",
       " 193.199997,\n",
       " 195.399994,\n",
       " 196.75,\n",
       " 198.149994,\n",
       " 220.649994,\n",
       " 237.800003,\n",
       " 242.600006,\n",
       " 245.100006,\n",
       " 260.299988,\n",
       " 245.949997,\n",
       " 258.649994,\n",
       " 274.899994,\n",
       " 290.600006,\n",
       " 289.350006,\n",
       " 279.149994,\n",
       " 267.5,\n",
       " 266.799988,\n",
       " 262.700012,\n",
       " 279.600006,\n",
       " 322.0,\n",
       " 331.0,\n",
       " 326.149994,\n",
       " 315.899994,\n",
       " 335.950012,\n",
       " 325.049988,\n",
       " 328.899994,\n",
       " 325.0,\n",
       " 325.399994,\n",
       " 333.350006,\n",
       " 329.200012,\n",
       " 330.149994,\n",
       " 323.850006,\n",
       " 311.850006,\n",
       " 304.5,\n",
       " 324.0,\n",
       " 321.649994,\n",
       " 333.149994,\n",
       " 322.950012,\n",
       " 328.299988,\n",
       " 345.75,\n",
       " 348.5,\n",
       " 339.200012,\n",
       " 325.149994,\n",
       " 321.25,\n",
       " 315.200012,\n",
       " 321.450012,\n",
       " 317.549988,\n",
       " 318.549988,\n",
       " 319.950012,\n",
       " 305.799988,\n",
       " 307.0,\n",
       " 308.950012,\n",
       " 303.049988,\n",
       " 307.399994,\n",
       " 294.450012,\n",
       " 285.549988,\n",
       " 296.399994,\n",
       " 297.049988,\n",
       " 301.799988,\n",
       " 307.75,\n",
       " 305.049988,\n",
       " 307.75,\n",
       " 307.799988,\n",
       " 313.950012,\n",
       " 318.200012,\n",
       " 286.549988,\n",
       " 302.850006,\n",
       " 303.5,\n",
       " 310.0,\n",
       " 301.399994,\n",
       " 298.049988,\n",
       " 294.549988,\n",
       " 294.0,\n",
       " 295.399994,\n",
       " 301.5,\n",
       " 305.899994,\n",
       " 301.899994,\n",
       " 293.850006,\n",
       " 293.0,\n",
       " 289.450012,\n",
       " 291.5,\n",
       " 301.25,\n",
       " 302.75,\n",
       " 314.850006,\n",
       " 315.549988,\n",
       " 326.0,\n",
       " 312.25,\n",
       " 321.100006,\n",
       " 332.450012,\n",
       " 314.450012,\n",
       " 307.700012,\n",
       " 313.100006,\n",
       " 311.850006,\n",
       " 315.25,\n",
       " 315.5,\n",
       " 318.600006,\n",
       " 318.75,\n",
       " 318.75,\n",
       " 318.100006,\n",
       " 323.0,\n",
       " 325.649994,\n",
       " 334.950012,\n",
       " 345.5,\n",
       " 352.75,\n",
       " 343.350006,\n",
       " 344.75,\n",
       " 350.75,\n",
       " 355.950012,\n",
       " 352.700012,\n",
       " 349.350006,\n",
       " 345.649994,\n",
       " 337.399994,\n",
       " 334.299988,\n",
       " 337.899994,\n",
       " 335.25,\n",
       " 334.649994,\n",
       " 339.649994,\n",
       " 342.799988,\n",
       " 341.549988,\n",
       " 339.600006,\n",
       " 344.25,\n",
       " 344.899994,\n",
       " 346.100006,\n",
       " 316.899994,\n",
       " 317.100006,\n",
       " 306.350006,\n",
       " 306.299988,\n",
       " 307.450012,\n",
       " 310.950012,\n",
       " 309.549988,\n",
       " 310.25,\n",
       " 311.25,\n",
       " 308.850006,\n",
       " 302.149994,\n",
       " 302.549988,\n",
       " 295.549988,\n",
       " 293.149994,\n",
       " 291.399994,\n",
       " 284.450012,\n",
       " 292.899994,\n",
       " 293.950012,\n",
       " 296.850006,\n",
       " 303.700012,\n",
       " 298.149994,\n",
       " 299.700012,\n",
       " 300.049988,\n",
       " 298.100006,\n",
       " 294.200012,\n",
       " 295.450012,\n",
       " 306.0,\n",
       " 307.25,\n",
       " 303.700012,\n",
       " 297.700012,\n",
       " 293.350006,\n",
       " 283.100006,\n",
       " 276.950012,\n",
       " 279.799988,\n",
       " 284.399994,\n",
       " 284.299988,\n",
       " 285.75,\n",
       " 291.950012,\n",
       " 287.299988,\n",
       " 295.25,\n",
       " 293.149994,\n",
       " 295.549988,\n",
       " 297.450012,\n",
       " 294.600006,\n",
       " 295.25,\n",
       " 298.950012,\n",
       " 301.200012,\n",
       " 306.100006,\n",
       " 311.950012,\n",
       " 311.649994,\n",
       " 308.600006,\n",
       " 298.950012,\n",
       " 301.950012,\n",
       " 310.100006,\n",
       " 321.5,\n",
       " 317.950012,\n",
       " 331.649994,\n",
       " 329.299988,\n",
       " 330.25,\n",
       " 333.350006,\n",
       " 333.299988,\n",
       " 342.0,\n",
       " 344.950012,\n",
       " 336.049988,\n",
       " 376.5,\n",
       " 382.950012,\n",
       " 415.75,\n",
       " 420.850006,\n",
       " 506.899994,\n",
       " 497.600006,\n",
       " 509.600006,\n",
       " 481.899994,\n",
       " 486.899994,\n",
       " 508.0,\n",
       " 490.899994,\n",
       " 479.899994,\n",
       " 508.649994,\n",
       " 497.899994,\n",
       " 481.049988,\n",
       " 483.700012,\n",
       " 485.700012,\n",
       " 487.850006,\n",
       " 484.899994,\n",
       " 489.700012,\n",
       " 501.399994,\n",
       " 509.649994,\n",
       " 510.75,\n",
       " 503.450012,\n",
       " 507.049988,\n",
       " 505.450012,\n",
       " 519.049988,\n",
       " 530.150024,\n",
       " 509.700012,\n",
       " 486.100006,\n",
       " 495.5,\n",
       " 488.649994,\n",
       " 492.75,\n",
       " 460.200012,\n",
       " 461.450012,\n",
       " 458.600006,\n",
       " 475.25,\n",
       " 479.100006,\n",
       " 480.100006,\n",
       " 467.200012,\n",
       " 481.799988,\n",
       " 493.899994,\n",
       " 493.950012,\n",
       " 494.450012,\n",
       " 495.350006,\n",
       " 489.399994,\n",
       " 491.649994,\n",
       " 491.950012,\n",
       " 470.200012,\n",
       " 447.049988,\n",
       " 453.600006,\n",
       " 470.5,\n",
       " 472.350006,\n",
       " 467.600006,\n",
       " 471.149994,\n",
       " 480.200012,\n",
       " 476.0,\n",
       " 470.399994,\n",
       " 482.399994,\n",
       " 497.600006,\n",
       " 489.600006,\n",
       " 489.75,\n",
       " 488.850006,\n",
       " 490.600006,\n",
       " 503.700012,\n",
       " 501.299988,\n",
       " 507.25,\n",
       " 511.950012,\n",
       " 509.899994,\n",
       " 525.0,\n",
       " 510.799988,\n",
       " 520.849976,\n",
       " 515.700012,\n",
       " 501.850006,\n",
       " 478.450012,\n",
       " 490.549988,\n",
       " 494.399994,\n",
       " 497.299988,\n",
       " 517.75,\n",
       " 504.299988,\n",
       " 506.399994,\n",
       " 504.5,\n",
       " 500.600006,\n",
       " 494.600006,\n",
       " 492.75,\n",
       " 501.25,\n",
       " 507.450012,\n",
       " 498.850006,\n",
       " 471.450012,\n",
       " 504.0,\n",
       " 498.450012,\n",
       " 499.950012,\n",
       " 493.149994,\n",
       " 494.450012,\n",
       " 478.25,\n",
       " 477.0,\n",
       " 427.950012,\n",
       " 459.75,\n",
       " 454.049988,\n",
       " 447.600006,\n",
       " 437.100006,\n",
       " 417.25,\n",
       " 394.0,\n",
       " 391.75,\n",
       " 405.899994,\n",
       " 419.600006,\n",
       " 418.149994,\n",
       " 411.700012,\n",
       " 413.649994,\n",
       " 424.899994,\n",
       " 433.799988,\n",
       " 427.950012,\n",
       " 440.350006,\n",
       " 435.799988,\n",
       " 433.200012,\n",
       " 432.100006,\n",
       " 432.700012,\n",
       " 433.700012,\n",
       " 435.649994,\n",
       " 433.75,\n",
       " 441.149994,\n",
       " 446.75,\n",
       " 458.049988,\n",
       " 456.149994,\n",
       " 449.5,\n",
       " 452.049988,\n",
       " 452.049988,\n",
       " 438.299988,\n",
       " 431.049988,\n",
       " 433.799988,\n",
       " 424.950012,\n",
       " 440.549988,\n",
       " 448.049988,\n",
       " 438.850006,\n",
       " 425.149994,\n",
       " 434.899994,\n",
       " 430.25,\n",
       " 436.049988,\n",
       " 437.600006,\n",
       " 432.850006,\n",
       " 423.5,\n",
       " 426.299988,\n",
       " 408.549988,\n",
       " 403.950012,\n",
       " 391.75,\n",
       " 388.149994,\n",
       " 372.299988,\n",
       " 404.299988,\n",
       " 405.350006,\n",
       " 424.149994,\n",
       " 415.149994,\n",
       " 398.649994,\n",
       " 418.0,\n",
       " 421.450012,\n",
       " 425.75,\n",
       " 417.0,\n",
       " 420.649994,\n",
       " 429.600006,\n",
       " 442.399994,\n",
       " 443.549988,\n",
       " 444.600006,\n",
       " 439.149994,\n",
       " 431.899994,\n",
       " 432.350006,\n",
       " 435.850006,\n",
       " 435.649994,\n",
       " 428.5,\n",
       " 428.049988,\n",
       " 406.700012,\n",
       " 405.149994,\n",
       " 414.100006,\n",
       " 392.950012,\n",
       " 388.950012,\n",
       " 382.700012,\n",
       " 397.600006,\n",
       " 393.100006,\n",
       " 407.200012,\n",
       " 409.299988,\n",
       " 414.5,\n",
       " 417.100006,\n",
       " 416.950012,\n",
       " 411.799988,\n",
       " 412.700012,\n",
       " 408.450012,\n",
       " 412.0,\n",
       " 416.350006,\n",
       " 430.850006,\n",
       " 441.549988,\n",
       " 437.049988,\n",
       " 430.549988,\n",
       " 427.100006,\n",
       " 428.049988,\n",
       " 440.200012,\n",
       " 450.899994,\n",
       " 449.049988,\n",
       " 453.450012,\n",
       " 454.850006,\n",
       " 454.899994,\n",
       " 449.549988,\n",
       " 441.149994,\n",
       " 444.049988,\n",
       " 442.25,\n",
       " 449.600006,\n",
       " 479.200012,\n",
       " 476.25,\n",
       " 467.799988,\n",
       " 468.899994,\n",
       " 465.25,\n",
       " 468.25,\n",
       " 475.549988,\n",
       " 476.649994,\n",
       " 477.549988,\n",
       " 489.850006,\n",
       " 485.399994,\n",
       " 484.799988,\n",
       " 471.0,\n",
       " 454.600006,\n",
       " 460.450012,\n",
       " 463.200012,\n",
       " 459.200012,\n",
       " 465.049988,\n",
       " 453.350006,\n",
       " 471.100006,\n",
       " 466.899994,\n",
       " 461.75,\n",
       " 459.0,\n",
       " 457.75,\n",
       " 445.850006,\n",
       " 442.200012,\n",
       " 445.899994,\n",
       " 451.0,\n",
       " 456.799988,\n",
       " 450.200012,\n",
       " 447.25,\n",
       " 432.5,\n",
       " 425.450012,\n",
       " 434.25,\n",
       " 427.649994,\n",
       " 432.200012,\n",
       " 423.100006,\n",
       " 397.5,\n",
       " 398.799988,\n",
       " 399.100006,\n",
       " 402.25,\n",
       " 404.600006,\n",
       " 397.649994,\n",
       " 407.899994,\n",
       " 414.100006,\n",
       " 412.149994,\n",
       " 395.950012,\n",
       " 393.350006,\n",
       " 396.549988,\n",
       " 399.0,\n",
       " 396.25,\n",
       " 396.100006,\n",
       " 404.25,\n",
       " 399.049988,\n",
       " 398.100006,\n",
       " 398.049988,\n",
       " 401.600006,\n",
       " 404.549988]"
      ]
     },
     "execution_count": 72,
     "metadata": {},
     "output_type": "execute_result"
    }
   ],
   "source": [
    "history"
   ]
  },
  {
   "cell_type": "code",
   "execution_count": 75,
   "metadata": {},
   "outputs": [
    {
     "ename": "NotImplementedError",
     "evalue": "\nstatsmodels.tsa.arima_model.ARMA and statsmodels.tsa.arima_model.ARIMA have\nbeen removed in favor of statsmodels.tsa.arima.model.ARIMA (note the .\nbetween arima and model) and statsmodels.tsa.SARIMAX.\n\nstatsmodels.tsa.arima.model.ARIMA makes use of the statespace framework and\nis both well tested and maintained. It also offers alternative specialized\nparameter estimators.\n",
     "output_type": "error",
     "traceback": [
      "\u001b[1;31m---------------------------------------------------------------------------\u001b[0m",
      "\u001b[1;31mNotImplementedError\u001b[0m                       Traceback (most recent call last)",
      "Input \u001b[1;32mIn [75]\u001b[0m, in \u001b[0;36m<cell line: 1>\u001b[1;34m()\u001b[0m\n\u001b[1;32m----> 1\u001b[0m model\u001b[38;5;241m=\u001b[39m\u001b[43mARIMA\u001b[49m\u001b[43m(\u001b[49m\u001b[43mhistory\u001b[49m\u001b[43m,\u001b[49m\u001b[43morder\u001b[49m\u001b[38;5;241;43m=\u001b[39;49m\u001b[43marima_order\u001b[49m\u001b[43m)\u001b[49m\n",
      "File \u001b[1;32m~\\anaconda3\\lib\\site-packages\\statsmodels\\tsa\\arima_model.py:45\u001b[0m, in \u001b[0;36mARIMA.__init__\u001b[1;34m(self, *args, **kwargs)\u001b[0m\n\u001b[0;32m     44\u001b[0m \u001b[38;5;28;01mdef\u001b[39;00m \u001b[38;5;21m__init__\u001b[39m(\u001b[38;5;28mself\u001b[39m, \u001b[38;5;241m*\u001b[39margs, \u001b[38;5;241m*\u001b[39m\u001b[38;5;241m*\u001b[39mkwargs):\n\u001b[1;32m---> 45\u001b[0m     \u001b[38;5;28msuper\u001b[39m()\u001b[38;5;241m.\u001b[39m\u001b[38;5;21m__init__\u001b[39m(\u001b[38;5;241m*\u001b[39margs, \u001b[38;5;241m*\u001b[39m\u001b[38;5;241m*\u001b[39mkwargs)\n",
      "File \u001b[1;32m~\\anaconda3\\lib\\site-packages\\statsmodels\\tsa\\arima_model.py:29\u001b[0m, in \u001b[0;36mARMA.__init__\u001b[1;34m(self, *args, **kwargs)\u001b[0m\n\u001b[0;32m     28\u001b[0m \u001b[38;5;28;01mdef\u001b[39;00m \u001b[38;5;21m__init__\u001b[39m(\u001b[38;5;28mself\u001b[39m, \u001b[38;5;241m*\u001b[39margs, \u001b[38;5;241m*\u001b[39m\u001b[38;5;241m*\u001b[39mkwargs):\n\u001b[1;32m---> 29\u001b[0m     \u001b[38;5;28;01mraise\u001b[39;00m \u001b[38;5;167;01mNotImplementedError\u001b[39;00m(ARIMA_DEPRECATION_ERROR)\n",
      "\u001b[1;31mNotImplementedError\u001b[0m: \nstatsmodels.tsa.arima_model.ARMA and statsmodels.tsa.arima_model.ARIMA have\nbeen removed in favor of statsmodels.tsa.arima.model.ARIMA (note the .\nbetween arima and model) and statsmodels.tsa.SARIMAX.\n\nstatsmodels.tsa.arima.model.ARIMA makes use of the statespace framework and\nis both well tested and maintained. It also offers alternative specialized\nparameter estimators.\n"
     ]
    }
   ],
   "source": [
    "model=ARIMA(history,order=arima_order)"
   ]
  },
  {
   "cell_type": "code",
   "execution_count": null,
   "metadata": {},
   "outputs": [],
   "source": []
  },
  {
   "cell_type": "code",
   "execution_count": 76,
   "metadata": {},
   "outputs": [
    {
     "ename": "NameError",
     "evalue": "name 'model' is not defined",
     "output_type": "error",
     "traceback": [
      "\u001b[1;31m---------------------------------------------------------------------------\u001b[0m",
      "\u001b[1;31mNameError\u001b[0m                                 Traceback (most recent call last)",
      "Input \u001b[1;32mIn [76]\u001b[0m, in \u001b[0;36m<cell line: 1>\u001b[1;34m()\u001b[0m\n\u001b[1;32m----> 1\u001b[0m model_fit\u001b[38;5;241m=\u001b[39m\u001b[43mmodel\u001b[49m\u001b[38;5;241m.\u001b[39mfit()\n",
      "\u001b[1;31mNameError\u001b[0m: name 'model' is not defined"
     ]
    }
   ],
   "source": [
    "model_fit=model.fit()\n",
    "\n"
   ]
  },
  {
   "cell_type": "code",
   "execution_count": 77,
   "metadata": {},
   "outputs": [
    {
     "ename": "NameError",
     "evalue": "name 'model_fit' is not defined",
     "output_type": "error",
     "traceback": [
      "\u001b[1;31m---------------------------------------------------------------------------\u001b[0m",
      "\u001b[1;31mNameError\u001b[0m                                 Traceback (most recent call last)",
      "Input \u001b[1;32mIn [77]\u001b[0m, in \u001b[0;36m<cell line: 1>\u001b[1;34m()\u001b[0m\n\u001b[1;32m----> 1\u001b[0m yhat\u001b[38;5;241m=\u001b[39m\u001b[43mmodel_fit\u001b[49m\u001b[38;5;241m.\u001b[39msummary()\n\u001b[0;32m      2\u001b[0m yhat\n",
      "\u001b[1;31mNameError\u001b[0m: name 'model_fit' is not defined"
     ]
    }
   ],
   "source": [
    "yhat=model_fit.summary()\n",
    "yhat"
   ]
  },
  {
   "cell_type": "code",
   "execution_count": 166,
   "metadata": {},
   "outputs": [
    {
     "ename": "NotImplementedError",
     "evalue": "\nstatsmodels.tsa.arima_model.ARMA and statsmodels.tsa.arima_model.ARIMA have\nbeen removed in favor of statsmodels.tsa.arima.model.ARIMA (note the .\nbetween arima and model) and statsmodels.tsa.SARIMAX.\n\nstatsmodels.tsa.arima.model.ARIMA makes use of the statespace framework and\nis both well tested and maintained. It also offers alternative specialized\nparameter estimators.\n",
     "output_type": "error",
     "traceback": [
      "\u001b[1;31m---------------------------------------------------------------------------\u001b[0m",
      "\u001b[1;31mNotImplementedError\u001b[0m                       Traceback (most recent call last)",
      "Input \u001b[1;32mIn [166]\u001b[0m, in \u001b[0;36m<cell line: 1>\u001b[1;34m()\u001b[0m\n\u001b[1;32m----> 1\u001b[0m model\u001b[38;5;241m=\u001b[39m\u001b[43mARIMA\u001b[49m\u001b[43m(\u001b[49m\u001b[43mtata_motors\u001b[49m\u001b[43m[\u001b[49m\u001b[38;5;124;43m'\u001b[39;49m\u001b[38;5;124;43mClose\u001b[39;49m\u001b[38;5;124;43m'\u001b[39;49m\u001b[43m]\u001b[49m\u001b[43m,\u001b[49m\u001b[43morder\u001b[49m\u001b[38;5;241;43m=\u001b[39;49m\u001b[43m(\u001b[49m\u001b[38;5;241;43m1\u001b[39;49m\u001b[43m,\u001b[49m\u001b[38;5;241;43m1\u001b[39;49m\u001b[43m,\u001b[49m\u001b[38;5;241;43m1\u001b[39;49m\u001b[43m)\u001b[49m\u001b[43m)\u001b[49m\n\u001b[0;32m      2\u001b[0m model_fit\u001b[38;5;241m=\u001b[39mmodel\u001b[38;5;241m.\u001b[39mfit()\n\u001b[0;32m      3\u001b[0m model\u001b[38;5;241m.\u001b[39msummary()\n",
      "File \u001b[1;32m~\\anaconda3\\lib\\site-packages\\statsmodels\\tsa\\arima_model.py:45\u001b[0m, in \u001b[0;36mARIMA.__init__\u001b[1;34m(self, *args, **kwargs)\u001b[0m\n\u001b[0;32m     44\u001b[0m \u001b[38;5;28;01mdef\u001b[39;00m \u001b[38;5;21m__init__\u001b[39m(\u001b[38;5;28mself\u001b[39m, \u001b[38;5;241m*\u001b[39margs, \u001b[38;5;241m*\u001b[39m\u001b[38;5;241m*\u001b[39mkwargs):\n\u001b[1;32m---> 45\u001b[0m     \u001b[38;5;28msuper\u001b[39m()\u001b[38;5;241m.\u001b[39m\u001b[38;5;21m__init__\u001b[39m(\u001b[38;5;241m*\u001b[39margs, \u001b[38;5;241m*\u001b[39m\u001b[38;5;241m*\u001b[39mkwargs)\n",
      "File \u001b[1;32m~\\anaconda3\\lib\\site-packages\\statsmodels\\tsa\\arima_model.py:29\u001b[0m, in \u001b[0;36mARMA.__init__\u001b[1;34m(self, *args, **kwargs)\u001b[0m\n\u001b[0;32m     28\u001b[0m \u001b[38;5;28;01mdef\u001b[39;00m \u001b[38;5;21m__init__\u001b[39m(\u001b[38;5;28mself\u001b[39m, \u001b[38;5;241m*\u001b[39margs, \u001b[38;5;241m*\u001b[39m\u001b[38;5;241m*\u001b[39mkwargs):\n\u001b[1;32m---> 29\u001b[0m     \u001b[38;5;28;01mraise\u001b[39;00m \u001b[38;5;167;01mNotImplementedError\u001b[39;00m(ARIMA_DEPRECATION_ERROR)\n",
      "\u001b[1;31mNotImplementedError\u001b[0m: \nstatsmodels.tsa.arima_model.ARMA and statsmodels.tsa.arima_model.ARIMA have\nbeen removed in favor of statsmodels.tsa.arima.model.ARIMA (note the .\nbetween arima and model) and statsmodels.tsa.SARIMAX.\n\nstatsmodels.tsa.arima.model.ARIMA makes use of the statespace framework and\nis both well tested and maintained. It also offers alternative specialized\nparameter estimators.\n"
     ]
    }
   ],
   "source": [
    "model=ARIMA(tata_motors['Close'],order=(1,1,1))\n",
    "model_fit=model.fit()\n",
    "model.summary()"
   ]
  },
  {
   "cell_type": "code",
   "execution_count": 180,
   "metadata": {},
   "outputs": [],
   "source": [
    "np.random.seed(123)\n",
    "N = 1000\n",
    "x = np.random.normal(0, 1, N)\n",
    "y = np.zeros(N)"
   ]
  },
  {
   "cell_type": "code",
   "execution_count": 181,
   "metadata": {},
   "outputs": [],
   "source": [
    "for i in range(1, N):\n",
    "    y[i] = 0.5 * y[i-1] + x[i] + 0.2 * np.sin(2*np.pi*i/100)"
   ]
  },
  {
   "cell_type": "code",
   "execution_count": 185,
   "metadata": {},
   "outputs": [
    {
     "ename": "AttributeError",
     "evalue": "module 'statsmodels.tsa.api' has no attribute 'STAR'",
     "output_type": "error",
     "traceback": [
      "\u001b[1;31m---------------------------------------------------------------------------\u001b[0m",
      "\u001b[1;31mAttributeError\u001b[0m                            Traceback (most recent call last)",
      "Input \u001b[1;32mIn [185]\u001b[0m, in \u001b[0;36m<cell line: 1>\u001b[1;34m()\u001b[0m\n\u001b[1;32m----> 1\u001b[0m mod \u001b[38;5;241m=\u001b[39m \u001b[43msm\u001b[49m\u001b[38;5;241;43m.\u001b[39;49m\u001b[43mtsa\u001b[49m\u001b[38;5;241;43m.\u001b[39;49m\u001b[43mSTAR\u001b[49m(y)\n\u001b[0;32m      2\u001b[0m res \u001b[38;5;241m=\u001b[39m mod\u001b[38;5;241m.\u001b[39mfit()\n",
      "\u001b[1;31mAttributeError\u001b[0m: module 'statsmodels.tsa.api' has no attribute 'STAR'"
     ]
    }
   ],
   "source": [
    "mod = sm.tsa.STAR(y)\n",
    "res = mod.fit()"
   ]
  },
  {
   "cell_type": "markdown",
   "metadata": {},
   "source": [
    "# Code\n"
   ]
  },
  {
   "cell_type": "code",
   "execution_count": 56,
   "metadata": {},
   "outputs": [],
   "source": [
    "from statsmodels.tsa.arima_model import ARIMA"
   ]
  },
  {
   "cell_type": "code",
   "execution_count": 57,
   "metadata": {},
   "outputs": [
    {
     "name": "stdout",
     "output_type": "stream",
     "text": [
      "(1004, 7)\n",
      "(974, 7) (30, 7)\n"
     ]
    }
   ],
   "source": [
    "print(tata.shape)\n",
    "train=tata.iloc[:-30]\n",
    "test=tata.iloc[-30:]\n",
    "print(train.shape,test.shape)"
   ]
  },
  {
   "cell_type": "code",
   "execution_count": 58,
   "metadata": {},
   "outputs": [
    {
     "name": "stdout",
     "output_type": "stream",
     "text": [
      "                             ARIMA Model Results                              \n",
      "==============================================================================\n",
      "Dep. Variable:                D.Close   No. Observations:                  973\n",
      "Model:                 ARIMA(1, 1, 1)   Log Likelihood               -3446.703\n",
      "Method:                       css-mle   S.D. of innovations              8.359\n",
      "Date:                Tue, 14 Feb 2023   AIC                           6901.406\n",
      "Time:                        16:13:48   BIC                           6920.927\n",
      "Sample:                             1   HQIC                          6908.835\n",
      "                                                                              \n",
      "=================================================================================\n",
      "                    coef    std err          z      P>|z|      [0.025      0.975]\n",
      "---------------------------------------------------------------------------------\n",
      "const             0.2504      0.261      0.960      0.337      -0.261       0.762\n",
      "ar.L1.D.Close    -0.8704      0.071    -12.237      0.000      -1.010      -0.731\n",
      "ma.L1.D.Close     0.8204      0.082     10.020      0.000       0.660       0.981\n",
      "                                    Roots                                    \n",
      "=============================================================================\n",
      "                  Real          Imaginary           Modulus         Frequency\n",
      "-----------------------------------------------------------------------------\n",
      "AR.1           -1.1489           +0.0000j            1.1489            0.5000\n",
      "MA.1           -1.2189           +0.0000j            1.2189            0.5000\n",
      "-----------------------------------------------------------------------------\n"
     ]
    }
   ],
   "source": [
    "from statsmodels.tsa.arima_model import ARIMA\n",
    "model=ARIMA(train['Close'],order=(1,1,1))\n",
    "model=model.fit()\n",
    "print(model.summary())"
   ]
  },
  {
   "cell_type": "code",
   "execution_count": null,
   "metadata": {},
   "outputs": [],
   "source": []
  },
  {
   "cell_type": "code",
   "execution_count": null,
   "metadata": {},
   "outputs": [],
   "source": []
  },
  {
   "cell_type": "code",
   "execution_count": null,
   "metadata": {},
   "outputs": [],
   "source": []
  },
  {
   "cell_type": "code",
   "execution_count": null,
   "metadata": {},
   "outputs": [],
   "source": []
  },
  {
   "cell_type": "code",
   "execution_count": null,
   "metadata": {},
   "outputs": [],
   "source": []
  },
  {
   "cell_type": "code",
   "execution_count": null,
   "metadata": {},
   "outputs": [],
   "source": []
  },
  {
   "cell_type": "code",
   "execution_count": null,
   "metadata": {},
   "outputs": [],
   "source": []
  },
  {
   "cell_type": "code",
   "execution_count": null,
   "metadata": {},
   "outputs": [],
   "source": []
  },
  {
   "cell_type": "code",
   "execution_count": null,
   "metadata": {},
   "outputs": [],
   "source": []
  },
  {
   "cell_type": "code",
   "execution_count": null,
   "metadata": {},
   "outputs": [],
   "source": []
  },
  {
   "cell_type": "code",
   "execution_count": null,
   "metadata": {},
   "outputs": [],
   "source": []
  },
  {
   "cell_type": "code",
   "execution_count": null,
   "metadata": {},
   "outputs": [],
   "source": []
  },
  {
   "cell_type": "code",
   "execution_count": null,
   "metadata": {},
   "outputs": [],
   "source": []
  },
  {
   "cell_type": "code",
   "execution_count": null,
   "metadata": {},
   "outputs": [],
   "source": []
  },
  {
   "cell_type": "code",
   "execution_count": null,
   "metadata": {},
   "outputs": [],
   "source": []
  },
  {
   "cell_type": "code",
   "execution_count": null,
   "metadata": {},
   "outputs": [],
   "source": []
  },
  {
   "cell_type": "code",
   "execution_count": null,
   "metadata": {},
   "outputs": [],
   "source": []
  },
  {
   "cell_type": "code",
   "execution_count": null,
   "metadata": {},
   "outputs": [],
   "source": []
  },
  {
   "cell_type": "code",
   "execution_count": null,
   "metadata": {},
   "outputs": [],
   "source": []
  },
  {
   "cell_type": "code",
   "execution_count": null,
   "metadata": {},
   "outputs": [],
   "source": []
  },
  {
   "cell_type": "code",
   "execution_count": null,
   "metadata": {},
   "outputs": [],
   "source": []
  },
  {
   "cell_type": "code",
   "execution_count": null,
   "metadata": {},
   "outputs": [],
   "source": []
  },
  {
   "cell_type": "code",
   "execution_count": null,
   "metadata": {},
   "outputs": [],
   "source": []
  }
 ],
 "metadata": {
  "kernelspec": {
   "display_name": "Python 3",
   "language": "python",
   "name": "python3"
  },
  "language_info": {
   "codemirror_mode": {
    "name": "ipython",
    "version": 3
   },
   "file_extension": ".py",
   "mimetype": "text/x-python",
   "name": "python",
   "nbconvert_exporter": "python",
   "pygments_lexer": "ipython3",
   "version": "3.8.3"
  }
 },
 "nbformat": 4,
 "nbformat_minor": 5
}
